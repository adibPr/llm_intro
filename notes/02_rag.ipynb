{
 "cells": [
  {
   "cell_type": "code",
   "execution_count": 1,
   "id": "bdc60be3-bfc9-4385-b3df-bff583528efd",
   "metadata": {},
   "outputs": [
    {
     "name": "stderr",
     "output_type": "stream",
     "text": [
      "/Users/aditya/anaconda3/envs/mini/lib/python3.11/site-packages/tqdm/auto.py:21: TqdmWarning: IProgress not found. Please update jupyter and ipywidgets. See https://ipywidgets.readthedocs.io/en/stable/user_install.html\n",
      "  from .autonotebook import tqdm as notebook_tqdm\n"
     ]
    }
   ],
   "source": [
    "import os\n",
    "import sys\n",
    "from typing import Optional, Any\n",
    "\n",
    "from dotenv import load_dotenv, find_dotenv\n",
    "import numpy as np\n",
    "\n",
    "from langchain_google_genai import ChatGoogleGenerativeAI\n",
    "from langchain_core.messages import HumanMessage, SystemMessage\n",
    "\n",
    "\n",
    "# new import\n",
    "from langchain_google_genai import GoogleGenerativeAIEmbeddings # embedding from Google\n",
    "from langchain_community.vectorstores import Chroma # access chroma from LangChain"
   ]
  },
  {
   "cell_type": "code",
   "execution_count": 2,
   "id": "e0884f1c-e032-43ae-9208-856b2be799ac",
   "metadata": {},
   "outputs": [],
   "source": [
    "# make sure GOOGLE_API_KEY (or any other llm provider, must exactly the same)\n",
    "_ = load_dotenv(find_dotenv())\n",
    "# or put it into variable and pass it to llm model \n",
    "# google_api_key = os.getenv('GOOGLE_API_KEY') # pass this to the model creation"
   ]
  },
  {
   "cell_type": "markdown",
   "id": "51ad3819-bf2f-4934-bd1b-2a629101111e",
   "metadata": {},
   "source": [
    "# RAG Concept"
   ]
  },
  {
   "cell_type": "markdown",
   "id": "2ee231ee-94b4-4067-bbfe-7fcb73daaf41",
   "metadata": {},
   "source": [
    "![Rag Flow](../media/rag_flow.png)"
   ]
  },
  {
   "cell_type": "markdown",
   "id": "b363dffa-a327-48e3-a392-c52d989294e1",
   "metadata": {},
   "source": [
    "One of the shortcomings of LLMs is their lack of domain-specific knowledge. \n",
    "They are trained on large, publicly available datasets, but to be useful in a business setting, they need access to internal data. \n",
    "*Retrieval-Augmented Generation* (RAG) is a technique that enhances an LLM’s responses by providing additional context from relevant documents.\n",
    "\n",
    "At a high level, RAG works by adding contextual information into the prompt. \n",
    "When a query is received, the system searches in the database for relevant documents and inserts the retrieved content into the prompt before passing it to the LLM.\n",
    "\n",
    "An important component of RAG is the vector database, which is used to store internal data. \n",
    "This database enables us to retrieve the most relevant sentences as context for our prompts."
   ]
  },
  {
   "cell_type": "markdown",
   "id": "96d3f89e-0849-48de-8712-9470989d1e2c",
   "metadata": {},
   "source": [
    "# Embedding\n",
    "At the core of every LLM is embedding, a process that converts a string into a vector representation. \n",
    "This allows us to compare the similarity between two sentences based on their vector distance. \n",
    "The goal is to compare sentences based on their meaning rather than just their words."
   ]
  },
  {
   "cell_type": "code",
   "execution_count": 3,
   "id": "cf05a71e-97e6-4626-be15-5cc7e24c51f2",
   "metadata": {},
   "outputs": [],
   "source": [
    "EMBEDDING_MODEL = GoogleGenerativeAIEmbeddings(model='models/text-embedding-004')"
   ]
  },
  {
   "cell_type": "code",
   "execution_count": 4,
   "id": "35ddc4d9-5dfe-4470-b115-d6a1dabe8503",
   "metadata": {},
   "outputs": [],
   "source": [
    "vec_query = EMBEDDING_MODEL.embed_query(\"Hello World\")"
   ]
  },
  {
   "cell_type": "code",
   "execution_count": 5,
   "id": "a158e3be-6fae-40ba-b15a-d26827f5f4c8",
   "metadata": {},
   "outputs": [],
   "source": [
    "vec_query = np.array(vec_query)"
   ]
  },
  {
   "cell_type": "code",
   "execution_count": 6,
   "id": "fc99d7d5-1630-4351-8066-93597a6163eb",
   "metadata": {
    "scrolled": true
   },
   "outputs": [
    {
     "data": {
      "text/plain": [
       "array([ 1.41921565e-02, -9.10687726e-03, -4.07615900e-02,  3.78295407e-03,\n",
       "       -5.71815018e-03, -5.98200085e-03,  5.99906370e-02,  2.03863699e-02,\n",
       "        2.55044959e-02,  4.73048165e-02, -4.99246120e-02, -1.69505260e-03,\n",
       "        3.48231532e-02, -1.07618682e-02, -2.28640344e-02, -1.78383943e-02,\n",
       "       -8.82386509e-03,  1.31277665e-02, -1.09334208e-01,  1.41559495e-02,\n",
       "        6.40330696e-03,  7.62484781e-03, -2.09325720e-02, -4.91950065e-02,\n",
       "       -1.12417219e-02, -4.25484381e-04,  1.31445769e-02,  2.33667046e-02,\n",
       "        1.38423229e-02,  4.45795283e-02, -4.18479554e-02,  5.61341196e-02,\n",
       "       -2.10907334e-03, -2.36702487e-02,  6.81589311e-03,  6.86355727e-03,\n",
       "       -5.09277508e-02,  2.82000564e-02,  7.36088492e-03, -5.37831187e-02,\n",
       "       -2.64719054e-02,  3.88621613e-02,  7.20694754e-03,  1.37184178e-02,\n",
       "        5.10124974e-02, -2.18461026e-02,  2.15280335e-02, -2.06419057e-03,\n",
       "        1.32721965e-03,  5.67283598e-04,  4.12434302e-02,  1.10045355e-02,\n",
       "       -9.87707302e-02,  3.78675275e-02, -1.02965469e-02, -5.78781869e-03,\n",
       "       -3.35001834e-02, -5.84088042e-02,  1.12262204e-01, -2.90148035e-02,\n",
       "       -3.19409817e-02, -4.30831760e-02,  4.65327017e-02,  1.25765800e-02,\n",
       "       -5.85528165e-02, -3.44471335e-02, -3.12569272e-03, -1.48351314e-02,\n",
       "       -3.67640331e-02,  2.27219444e-02, -6.65683001e-02,  1.42952809e-02,\n",
       "       -1.01624997e-02,  7.78580131e-03, -5.17664626e-02, -7.32686603e-03,\n",
       "       -1.29194269e-02,  1.25942258e-02,  4.94836189e-04,  1.27866901e-02,\n",
       "       -2.71723922e-02,  3.73156890e-02,  1.46589261e-02,  8.68949387e-03,\n",
       "       -1.02682672e-02,  5.20111900e-03, -2.08775979e-03,  3.18263695e-02,\n",
       "       -3.87029238e-02,  3.16247270e-02,  5.02396971e-02, -9.26136039e-03,\n",
       "       -3.94504704e-02,  8.75957590e-03,  3.94160524e-02,  9.14863590e-03,\n",
       "       -9.77553576e-02, -6.69226274e-02,  4.25911620e-02,  5.15162833e-02,\n",
       "        2.45958753e-03, -1.44454138e-02,  1.31830871e-02, -4.30061147e-02,\n",
       "        2.45008674e-02,  6.96390569e-02, -4.99592386e-02, -1.89891849e-02,\n",
       "       -3.14188823e-02, -3.34272385e-02,  1.89479887e-02, -4.90509197e-02,\n",
       "        4.25254665e-02,  4.58553992e-03, -1.95138846e-02, -6.34670034e-02,\n",
       "       -6.59910217e-02,  1.80597641e-02, -3.98839675e-02,  7.01231742e-03,\n",
       "        1.64164323e-02,  1.92422513e-02, -1.49249602e-02,  7.74735678e-03,\n",
       "        5.62556684e-02, -2.59394906e-02,  5.58748282e-02, -5.19538671e-03,\n",
       "       -3.17870416e-02, -3.19592059e-02,  6.25940040e-02, -4.02216949e-02,\n",
       "        1.68624017e-02,  7.37022655e-03, -5.91512211e-02, -3.84517834e-02,\n",
       "        3.34961638e-02,  2.43176036e-02, -1.23902631e-03, -8.92568566e-03,\n",
       "        3.06302011e-02, -5.87907247e-03, -1.96402520e-02, -8.60028155e-03,\n",
       "        1.81612223e-02, -4.71860245e-02,  3.46893407e-02,  4.07840349e-02,\n",
       "       -1.21604316e-02,  4.07760451e-03,  9.94698144e-03,  2.13407185e-02,\n",
       "        5.54901734e-02, -1.29415561e-02, -2.40967721e-02,  2.07064487e-02,\n",
       "        4.60634492e-02, -7.26323351e-02,  5.58423996e-02,  3.85250412e-02,\n",
       "       -2.16113366e-02, -3.69517654e-02,  4.49524401e-03, -2.86492016e-02,\n",
       "       -2.39774585e-02,  3.45020629e-02,  6.69808593e-03, -2.56825704e-02,\n",
       "        8.09732266e-03, -5.00717461e-02,  1.46024255e-03, -6.16761744e-02,\n",
       "        1.78907823e-03,  5.25847971e-02,  1.90802235e-02,  2.75739841e-03,\n",
       "       -5.81968836e-02, -3.09420265e-02, -1.70116629e-02, -7.32034519e-02,\n",
       "        1.23836532e-01,  1.36399781e-02, -2.14772746e-02, -7.02611431e-02,\n",
       "        3.83831002e-02,  4.65378873e-02,  1.56830736e-02,  3.91541570e-02,\n",
       "        8.08459297e-02,  6.31364435e-02, -6.39909878e-02,  2.55442522e-02,\n",
       "       -4.59686125e-04,  1.82038117e-02,  4.04898077e-02, -2.00653728e-02,\n",
       "        8.89514014e-02, -3.82251069e-02, -1.78878650e-03, -7.47360289e-03,\n",
       "        4.22628783e-02,  2.68525388e-02,  5.77282626e-03, -7.26130046e-03,\n",
       "        3.94867687e-03,  4.58397530e-02, -7.41116256e-02, -5.34388982e-02,\n",
       "        4.95615788e-02,  3.95181999e-02,  1.29092345e-02,  2.81696499e-04,\n",
       "        5.98199014e-03, -2.32836828e-02, -1.38736041e-02,  2.76677292e-02,\n",
       "        8.20339471e-02, -3.14690694e-02,  3.01559586e-02,  2.75723096e-02,\n",
       "        3.76692750e-02,  2.99365856e-02,  3.19863223e-02,  4.13171249e-03,\n",
       "        7.15188682e-02,  4.93564084e-02, -1.52224926e-02, -2.79604383e-02,\n",
       "       -3.17846462e-02,  1.74995475e-02, -6.25377297e-02, -9.56491742e-04,\n",
       "       -1.34721901e-02,  6.12711795e-02,  2.10689213e-02,  2.49532033e-02,\n",
       "        8.05553198e-02,  7.25426525e-03, -2.47470122e-02,  1.64383501e-02,\n",
       "       -8.61811079e-03, -5.78484237e-02,  2.27568448e-02,  3.21058333e-02,\n",
       "       -9.48756002e-03, -2.52915658e-02, -8.34012963e-03,  1.16707655e-02,\n",
       "        1.54639427e-02, -6.09030873e-02, -6.47667497e-02,  1.13435201e-02,\n",
       "       -5.38722575e-02,  4.48995130e-03,  1.52849607e-04, -3.40904631e-02,\n",
       "        4.43030242e-03, -4.95762452e-02, -4.08356916e-03,  1.36314938e-02,\n",
       "        6.90508932e-02, -4.44693677e-02,  9.60762985e-03, -8.74095261e-02,\n",
       "       -3.42081189e-02, -5.24705462e-02,  2.98243407e-02, -5.74581837e-03,\n",
       "        8.75463150e-03, -1.00223444e-01,  5.46921650e-03, -5.17139062e-02,\n",
       "       -1.66344885e-02, -2.52425652e-02, -2.63413377e-02,  1.17544038e-02,\n",
       "       -4.78923693e-02,  1.62415691e-02, -6.64525107e-02, -4.28299196e-02,\n",
       "       -1.95012074e-02, -4.80136601e-03,  7.91560393e-03,  1.95115805e-02,\n",
       "       -2.11985130e-02, -2.64694951e-02,  6.57437742e-02,  3.96810435e-02,\n",
       "       -3.08902860e-02, -1.45174831e-03,  5.29395267e-02, -9.42785945e-03,\n",
       "        1.19931838e-02, -1.99087914e-02,  2.84180008e-02,  8.04016180e-03,\n",
       "        3.27881761e-02,  2.38653105e-02,  5.42186908e-02,  1.13343750e-03,\n",
       "        1.38676791e-02,  7.12426305e-02, -4.88137603e-02, -1.08824009e-02,\n",
       "       -1.86037403e-02,  9.53781884e-03,  3.19062360e-02, -2.66112704e-02,\n",
       "       -1.24285584e-02, -2.70914510e-02, -1.10570127e-02,  1.49161192e-02,\n",
       "        2.18847822e-02, -2.19449978e-02, -4.43347543e-02, -1.93074904e-02,\n",
       "       -1.19201548e-01,  3.42443697e-02, -6.49629757e-02, -3.56599428e-02,\n",
       "        6.42703623e-02,  3.83216366e-02, -7.29188919e-02, -4.24729027e-02,\n",
       "       -1.80532057e-02, -2.27515195e-02,  4.55029234e-02,  3.69828604e-02,\n",
       "       -2.57078186e-03, -2.10228749e-02,  4.11126502e-02,  4.18308713e-02,\n",
       "        2.08075345e-02, -6.75737858e-02,  6.16197474e-03,  6.88765422e-02,\n",
       "       -3.97261083e-02,  3.74261104e-02,  4.94309105e-02,  5.06964251e-02,\n",
       "       -2.77401768e-02,  3.67709585e-02,  6.75403476e-02,  2.75669694e-02,\n",
       "        7.17415195e-03,  6.79157069e-03,  2.66769230e-02, -3.34071484e-03,\n",
       "       -1.90564264e-02, -4.63392064e-02,  1.32840089e-02,  2.83314027e-02,\n",
       "        2.68592518e-02, -3.12867612e-02, -7.78099149e-02,  2.09480673e-02,\n",
       "        6.43856972e-02, -1.31712435e-03, -2.35082093e-03, -3.34833562e-02,\n",
       "        1.17823603e-02,  3.76586802e-02, -1.97637714e-02,  3.08878552e-02,\n",
       "       -6.32420406e-02,  3.98880914e-02,  8.71161371e-03,  6.92180768e-02,\n",
       "        3.62325571e-02, -5.03677167e-02,  4.97324169e-02,  7.08929151e-02,\n",
       "       -3.75492722e-02, -6.94811577e-03, -2.55960901e-03, -7.10214898e-02,\n",
       "       -5.89563325e-02, -2.04286836e-02,  4.46977690e-02, -8.69605765e-02,\n",
       "       -2.13570334e-02,  1.32878264e-02, -2.39040293e-02,  6.60354830e-03,\n",
       "       -8.94824415e-02,  6.31742850e-02, -7.66384676e-02,  2.23786980e-02,\n",
       "        1.31571833e-02, -1.56876612e-02, -3.78946364e-02,  6.11674525e-02,\n",
       "        4.34719250e-02,  2.84653362e-02,  2.83611030e-03,  2.30542347e-02,\n",
       "       -6.00998662e-02,  1.48535166e-02,  3.32879201e-02,  4.20807935e-02,\n",
       "       -3.32497223e-03,  2.27109324e-02,  4.50463444e-02, -2.39197370e-02,\n",
       "        2.64469255e-03, -2.37609819e-02,  4.89665233e-02,  3.33170183e-02,\n",
       "        5.12712561e-02, -4.36016638e-03, -3.39134112e-02,  5.77290207e-02,\n",
       "        6.88664382e-03,  7.59761268e-03, -1.62640028e-02, -8.91474355e-03,\n",
       "       -3.55069414e-02,  6.71936059e-03,  8.30166755e-05,  4.83296392e-03,\n",
       "       -3.21511030e-02, -4.59949896e-02,  2.89332233e-02, -4.82334681e-02,\n",
       "        1.02005946e-02, -3.68683524e-02, -2.32848786e-02,  3.43926363e-02,\n",
       "        3.35850008e-02, -2.83011943e-02,  4.36917692e-03,  3.38487849e-02,\n",
       "       -7.48647237e-03, -4.21636691e-03, -5.20361848e-02, -1.63066257e-02,\n",
       "       -1.45520465e-02,  3.71064506e-02, -9.82641801e-03,  3.84367891e-02,\n",
       "       -3.45205963e-02, -1.70143265e-02,  2.04611477e-02,  4.74481024e-02,\n",
       "       -4.46898490e-02,  2.67327446e-02,  3.44695114e-02, -3.13830264e-02,\n",
       "       -1.13857174e-02,  1.14133144e-02, -5.81292901e-03,  7.79925846e-03,\n",
       "       -2.23871116e-02, -1.32941334e-02, -3.09093464e-02,  1.84003357e-02,\n",
       "       -3.01826056e-02,  4.78013381e-02,  1.09600835e-02,  2.99757700e-02,\n",
       "       -5.40613942e-02,  2.56466996e-02,  7.87147805e-02, -3.48081887e-02,\n",
       "       -1.65737886e-02,  1.58182010e-02, -4.19005230e-02,  3.51717160e-03,\n",
       "        7.14609772e-03,  6.68924227e-02,  4.10673544e-02,  4.51535583e-02,\n",
       "        2.96442211e-03,  3.77852656e-03,  2.20674947e-02,  2.33426522e-02,\n",
       "        6.49566250e-03,  3.16115702e-03, -9.03561153e-03,  3.77186127e-02,\n",
       "        4.01346711e-03, -3.16188933e-04, -1.18100904e-02,  1.42520098e-02,\n",
       "        7.53428042e-02, -1.77151933e-02, -4.10447977e-02,  1.18171992e-02,\n",
       "        1.44477449e-02, -1.04573192e-02, -1.22791287e-02,  5.96881434e-02,\n",
       "        2.34318580e-02,  1.80063900e-02, -1.04601555e-01,  3.61008979e-02,\n",
       "        2.56913006e-02,  2.34221276e-02,  7.60892034e-03, -1.40946824e-02,\n",
       "        2.06308533e-02, -2.04936881e-03, -1.01900566e-02,  5.76131279e-04,\n",
       "       -4.70617898e-02, -2.11944561e-02, -2.67107710e-02, -5.18797897e-02,\n",
       "        1.80562977e-02, -2.51911338e-02,  5.60839549e-02, -2.07540337e-02,\n",
       "        4.04174626e-02,  2.78067812e-02, -1.51558612e-02,  2.87956279e-02,\n",
       "       -7.05901086e-02,  1.54730622e-02, -6.88590631e-02,  3.72582264e-02,\n",
       "       -6.18229061e-02, -2.25034263e-02,  2.35316176e-02, -2.03052722e-02,\n",
       "        8.82310700e-03, -3.75700719e-03, -3.15090269e-02, -2.73550302e-02,\n",
       "        6.04085810e-02, -1.64718665e-02, -1.23427324e-02,  5.00912685e-03,\n",
       "       -1.66285783e-03,  7.08210515e-03, -2.30795462e-02,  4.31556031e-02,\n",
       "       -2.74625961e-02,  5.33477515e-02, -7.84497187e-02,  2.87504569e-02,\n",
       "       -9.27272905e-03, -2.23186687e-02,  1.63539443e-02,  1.41456947e-02,\n",
       "        4.22454160e-03,  3.86043712e-02, -3.16478796e-02,  1.52230663e-02,\n",
       "       -2.17347369e-02,  3.65791395e-02,  2.66779698e-02, -3.46872211e-02,\n",
       "       -5.26324213e-02, -5.31603233e-04, -6.57688454e-03, -1.34217944e-02,\n",
       "       -3.09700686e-02, -1.26961134e-02,  1.74206158e-03,  1.85661728e-03,\n",
       "        4.09712680e-02, -3.07087507e-02,  1.80865321e-02, -1.87397003e-02,\n",
       "        3.80614549e-02,  3.77322584e-02, -1.15004769e-02,  6.73559308e-02,\n",
       "        1.88234206e-02, -3.52554978e-03, -9.05182771e-03,  7.74610962e-05,\n",
       "        1.27213532e-02, -5.84127661e-03,  1.66942850e-02,  2.44945940e-02,\n",
       "       -7.92192072e-02,  2.89174472e-03, -1.27941165e-02, -8.60444363e-03,\n",
       "        3.43217812e-02,  7.51845725e-03,  8.52081627e-02,  2.61499360e-02,\n",
       "       -3.67260091e-02, -1.33822626e-03, -5.81872882e-03, -4.32207137e-02,\n",
       "        5.99238984e-02,  8.98008118e-04,  1.48420292e-03,  3.40373479e-02,\n",
       "       -4.92801517e-02,  4.94249770e-03,  1.72292516e-02, -5.73601713e-03,\n",
       "        1.12008303e-02,  1.58713758e-02, -1.57526471e-02,  6.08530501e-03,\n",
       "       -1.51223019e-02, -2.75362916e-02, -1.75369147e-03, -3.03304158e-02,\n",
       "        1.27913421e-02,  7.35412957e-03, -5.24610095e-02, -1.67958103e-02,\n",
       "        4.38759249e-04, -6.73049688e-03,  4.97938646e-03, -4.13041236e-03,\n",
       "       -1.92662459e-02, -3.19108879e-03, -9.21529159e-02,  2.02174671e-02,\n",
       "       -3.84616922e-03, -2.76263896e-03, -5.00505641e-02,  2.83988584e-02,\n",
       "        3.72747262e-03,  3.29826251e-02,  1.95588674e-02,  2.76171397e-02,\n",
       "       -3.54585424e-02, -1.84771437e-02,  2.28126571e-02,  1.32272365e-02,\n",
       "        4.95655499e-02,  1.44898342e-02, -4.15977947e-02,  1.83464531e-02,\n",
       "        3.22829895e-02, -3.86240659e-03, -3.23449112e-02, -1.37592033e-02,\n",
       "       -7.30056269e-03,  1.53424386e-02, -3.35534960e-02, -6.97184503e-02,\n",
       "        1.47222597e-02,  1.05837127e-02,  5.73945194e-02,  6.90567195e-02,\n",
       "       -3.66036184e-02,  2.20903289e-02, -7.81794265e-03, -3.44294794e-02,\n",
       "        4.53137830e-02,  3.50623690e-02, -2.55183168e-02,  4.20548804e-02,\n",
       "       -2.33122278e-02,  1.74059290e-02,  2.54332107e-02,  1.28540453e-02,\n",
       "       -3.99338603e-02, -2.83515435e-02,  6.41922280e-02, -9.80226882e-03,\n",
       "        1.65333357e-02, -7.00940788e-02, -1.59276817e-02, -2.27412209e-02,\n",
       "       -5.34888171e-03, -5.56031875e-02, -3.07600163e-02,  7.06800399e-03,\n",
       "        1.96948629e-02,  7.82684889e-03,  2.91622477e-03,  2.92159989e-03,\n",
       "       -5.07980771e-02, -1.42016644e-02, -1.44628240e-02, -2.95963441e-03,\n",
       "        2.67053787e-02, -3.14769968e-02, -8.72686785e-03,  3.24691981e-02,\n",
       "       -5.63053880e-03, -3.66110206e-02,  6.26516193e-02, -6.51008710e-02,\n",
       "       -1.22870263e-02, -1.78771224e-02, -1.38969403e-02, -2.94913463e-02,\n",
       "        4.81399000e-02, -3.19412700e-03,  1.19208833e-02,  2.31072959e-02,\n",
       "       -4.63000126e-02,  1.30391894e-02, -6.36165738e-02,  2.74234973e-02,\n",
       "       -2.17167451e-03,  4.83353138e-02, -3.92924547e-02, -1.52471093e-02,\n",
       "       -1.32607985e-02, -3.04776300e-02, -7.03627914e-02,  2.27750055e-02,\n",
       "        1.52394101e-02,  2.93182908e-03,  8.22297409e-02,  1.16147371e-02,\n",
       "       -5.24202622e-02, -7.85156712e-03, -7.08005726e-02, -2.33512986e-02,\n",
       "        3.33074592e-02,  9.61941574e-03,  3.00825685e-02,  3.48930098e-02,\n",
       "       -4.56966041e-03,  2.32070070e-02, -1.60962567e-02,  2.65446939e-02,\n",
       "       -1.73459277e-02,  1.83341745e-02,  4.13069800e-02,  4.49501649e-02,\n",
       "        4.52486537e-02, -2.96202805e-02, -1.41783431e-02, -6.68165786e-03,\n",
       "       -3.39527726e-02,  6.66963458e-02, -2.10555103e-02, -2.55210754e-02,\n",
       "        1.45702334e-02,  1.94510370e-02, -1.27579970e-02, -7.50364596e-03,\n",
       "       -1.29472902e-02, -4.80867997e-02, -1.50178252e-02, -1.15926610e-03,\n",
       "        1.27271600e-02, -3.79690677e-02, -7.31449276e-02,  1.76355429e-02,\n",
       "        1.02502154e-02,  1.14925187e-02, -3.10918465e-02,  5.34840152e-02,\n",
       "       -4.19089198e-02, -9.51656476e-02, -7.24368766e-02,  2.60337256e-02,\n",
       "       -7.22629623e-03,  5.61810620e-02,  2.17236914e-02,  1.29917450e-03,\n",
       "        4.59705479e-02, -8.73604324e-03,  3.45097966e-02, -6.24736072e-03,\n",
       "       -9.20442864e-03,  8.66398662e-02, -7.65744317e-03,  4.04121578e-02,\n",
       "       -1.12574175e-02, -4.10966091e-02,  4.46452433e-03,  3.70279625e-02])"
      ]
     },
     "execution_count": 6,
     "metadata": {},
     "output_type": "execute_result"
    }
   ],
   "source": [
    "vec_query"
   ]
  },
  {
   "cell_type": "code",
   "execution_count": 7,
   "id": "acca2e0d-02b6-43e3-ae7b-322bc880eb6e",
   "metadata": {},
   "outputs": [
    {
     "data": {
      "text/plain": [
       "(768,)"
      ]
     },
     "execution_count": 7,
     "metadata": {},
     "output_type": "execute_result"
    }
   ],
   "source": [
    "vec_query.shape # Google Text Embedding 004 embedding size is 768, different model have different size"
   ]
  },
  {
   "cell_type": "code",
   "execution_count": 8,
   "id": "db6f02b5-bc46-4b63-87f4-98885797b875",
   "metadata": {},
   "outputs": [],
   "source": [
    "contents = [\n",
    "    \"Cuacanya sangat dingin hari ini\",\n",
    "    \"Buku terbaru yang ada di toko sangat bagus\",\n",
    "    \"Taman itu berada di daerah Jakarta Kota\"\n",
    "]\n",
    "vec_contents = np.array([EMBEDDING_MODEL.embed_query(_) for _ in contents])"
   ]
  },
  {
   "cell_type": "code",
   "execution_count": 9,
   "id": "c881fe25-d55b-4385-bb21-150deebdbf8d",
   "metadata": {},
   "outputs": [
    {
     "data": {
      "text/plain": [
       "(3, 768)"
      ]
     },
     "execution_count": 9,
     "metadata": {},
     "output_type": "execute_result"
    }
   ],
   "source": [
    "vec_contents.shape"
   ]
  },
  {
   "cell_type": "code",
   "execution_count": 10,
   "id": "39f9bccb-c80e-4d97-8998-f122e7e269da",
   "metadata": {},
   "outputs": [],
   "source": [
    "query = \"Di dekat sini terdapat area hijau yang bagus dan rimbun\"\n",
    "vec_query = np.array(EMBEDDING_MODEL.embed_query(query))"
   ]
  },
  {
   "cell_type": "code",
   "execution_count": 11,
   "id": "6a776220-1ccd-40ae-bca3-a1d551719ce5",
   "metadata": {},
   "outputs": [
    {
     "data": {
      "text/plain": [
       "array([0.96018157, 0.95823276, 0.78226486])"
      ]
     },
     "execution_count": 11,
     "metadata": {},
     "output_type": "execute_result"
    }
   ],
   "source": [
    "# https://stackoverflow.com/questions/1401712/how-can-the-euclidean-distance-be-calculated-with-numpy\n",
    "# euclidean distance, the lower means more similar\n",
    "np.linalg.norm(vec_query-vec_contents, axis=1)"
   ]
  },
  {
   "cell_type": "markdown",
   "id": "c0db2861-be43-4b14-8a60-1edcf5138417",
   "metadata": {},
   "source": [
    "# Vector Database"
   ]
  },
  {
   "cell_type": "markdown",
   "id": "f48cb328-4264-41ca-bfe3-4accfcb76e85",
   "metadata": {},
   "source": [
    "Vector Database is a database that are specifically tailord to store and query vector data. \n",
    "Vector database natively support similarity search based on a vector as well, with several selection method like taking the top-k."
   ]
  },
  {
   "cell_type": "code",
   "execution_count": 12,
   "id": "6387e26f-9a51-4851-987c-af144aac80db",
   "metadata": {},
   "outputs": [
    {
     "name": "stderr",
     "output_type": "stream",
     "text": [
      "/var/folders/2r/q5d4kfwn6j5fkmb2nky49gz80000gn/T/ipykernel_48919/1554868473.py:2: LangChainDeprecationWarning: The class `Chroma` was deprecated in LangChain 0.2.9 and will be removed in 1.0. An updated version of the class exists in the :class:`~langchain-chroma package and should be used instead. To use it run `pip install -U :class:`~langchain-chroma` and import as `from :class:`~langchain_chroma import Chroma``.\n",
      "  VECTORDB = Chroma(persist_directory=VECTORDB_DIRECTORY, embedding_function=EMBEDDING_MODEL)\n"
     ]
    }
   ],
   "source": [
    "VECTORDB_DIRECTORY = '../data/chromadb/'\n",
    "VECTORDB = Chroma(persist_directory=VECTORDB_DIRECTORY, embedding_function=EMBEDDING_MODEL)"
   ]
  },
  {
   "cell_type": "code",
   "execution_count": 13,
   "id": "a9f3ba40-ac75-4f5d-ab7e-6d1291dbd5c2",
   "metadata": {},
   "outputs": [],
   "source": [
    "# save content into database\n",
    "# before data could be inserted, we need to convert it into Document object\n",
    "from langchain_core.documents import Document\n",
    "lc_documents = []\n",
    "for c_idx, c in enumerate(contents):\n",
    "    lc_documents.append(Document(c, metadata={'content_id': c_idx}))"
   ]
  },
  {
   "cell_type": "code",
   "execution_count": 14,
   "id": "8a268a69-d49a-4cc5-ac61-a88d5d38cc12",
   "metadata": {},
   "outputs": [
    {
     "data": {
      "text/plain": [
       "[Document(metadata={'content_id': 0}, page_content='Cuacanya sangat dingin hari ini'),\n",
       " Document(metadata={'content_id': 1}, page_content='Buku terbaru yang ada di toko sangat bagus'),\n",
       " Document(metadata={'content_id': 2}, page_content='Taman itu berada di daerah Jakarta Kota')]"
      ]
     },
     "execution_count": 14,
     "metadata": {},
     "output_type": "execute_result"
    }
   ],
   "source": [
    "lc_documents"
   ]
  },
  {
   "cell_type": "code",
   "execution_count": 15,
   "id": "0dfb194b-5ecb-4f8c-b084-3ed9f8ebbfd6",
   "metadata": {},
   "outputs": [
    {
     "data": {
      "text/plain": [
       "['adfe9cab-9b55-48e5-9926-b2a7a2812ec3',\n",
       " 'a3951782-c1ae-479e-a22e-5ac36d585361',\n",
       " '2e66966e-86f4-46a7-a632-42a7f74bb725']"
      ]
     },
     "execution_count": 15,
     "metadata": {},
     "output_type": "execute_result"
    }
   ],
   "source": [
    "VECTORDB.add_documents(lc_documents)"
   ]
  },
  {
   "cell_type": "code",
   "execution_count": 16,
   "id": "19a7f717-47c8-41e7-a409-a4cd08936137",
   "metadata": {},
   "outputs": [
    {
     "data": {
      "text/plain": [
       "[Document(metadata={'content_id': 2}, page_content='Taman itu berada di daerah Jakarta Kota')]"
      ]
     },
     "execution_count": 16,
     "metadata": {},
     "output_type": "execute_result"
    }
   ],
   "source": [
    "# retrieve data based on query\n",
    "retriever = VECTORDB.as_retriever(search_type=\"similarity_score_threshold\", search_kwargs={\"k\": 1, \"score_threshold\": 0.1})\n",
    "retriever.invoke(query)"
   ]
  },
  {
   "cell_type": "markdown",
   "id": "61232d22-b621-466a-bde9-3dbb33f096cb",
   "metadata": {},
   "source": [
    "# RAG"
   ]
  },
  {
   "cell_type": "markdown",
   "id": "d032132d-3839-4775-a76b-29e6ecb4d935",
   "metadata": {},
   "source": [
    "For demonstration purposes, we will crawl several news data with different topic. "
   ]
  },
  {
   "cell_type": "code",
   "execution_count": 17,
   "id": "c3dbc3eb-85f6-49ea-ab6c-a8ffd4b0d899",
   "metadata": {},
   "outputs": [
    {
     "name": "stdout",
     "output_type": "stream",
     "text": [
      "{'content': 'KOMPAS.com - Shin Tae-yong telah diberhentikan dari tugas melatih '\n",
      "            'timnas Indonesia. Kendati demikian, STY tetap ingin memajukan '\n",
      "            'sepak bola Indonesia melalui akademinya\\n'\n",
      "            '\\n'\n",
      "            'Lembar perjalanan Shin Tae-yong sebagai pelatih timnas Indonesia '\n",
      "            'resmi berakhir.\\n'\n",
      "            '\\n'\n",
      "            'Ketua Umum PSSI, Erick Thohir, menyampaikan langsung keputusan '\n",
      "            'pemberhentian STY dalam sebuah sesi konferensi pers di Menara '\n",
      "            'Danareksa, Jakarta, Senin (6/1/2025)\\n'\n",
      "            '\\n'\n",
      "            'Shin Tae-yong pun mesti mengakhiri pengabdian bersama timnas '\n",
      "            'Indonesia lebih cepat, meski sejatinya ia masih terikat kontrak '\n",
      "            'sampai 2027.\\n'\n",
      "            '\\n'\n",
      "            'Baca juga: Shin Tae-yong, Timnas Indonesia, dan Hierarki di '\n",
      "            'Budaya Korea Selatan\\n'\n",
      "            '\\n'\n",
      "            'Kepergian STY dari kursi pelatih timnas Indonesia sempat '\n",
      "            'menimbulkan pertanyaan tentang nasib akademi sang pelatih asal '\n",
      "            'Korea Selatan di Tanah Air.\\n'\n",
      "            '\\n'\n",
      "            'Seperti diketahui, pada November 2024 silam, Shin TaeYong '\n",
      "            'Football Academy, mulai beroperasi di Indonesia.\\n'\n",
      "            '\\n'\n",
      "            'View this post on Instagram A post shared by Shin TaeYong '\n",
      "            'Football Academy (@shintaeyong_academy)\\n'\n",
      "            '\\n'\n",
      "            'Shin TaeYong Football Academy dipastikan akan terus berjalan '\n",
      "            'meski kursi pelatih timnas Indonesia kini tak lagi diduduki sang '\n",
      "            'pelatih asal Korea Selatan.\\n'\n",
      "            '\\n'\n",
      "            '\"Sebagai tanggapan atas berbagai pertanyaan yang berkembang di '\n",
      "            'tengah masyarakat, kami ingin memberikan penjelasan yang tegas '\n",
      "            'dan transparan,\" demikian bunyi keterangan Shin TaeYong Football '\n",
      "            'Academy melalui Instagram.\\n'\n",
      "            '\\n'\n",
      "            'Baca juga: Marc Klok Ungkap Problem STY di Timnas Indonesia, '\n",
      "            'Hierarki dan Komunikasi\\n'\n",
      "            '\\n'\n",
      "            '\"Dengan rasa cinta yang besar terhadap sepak bola Indonesia, '\n",
      "            'coach Shin Tae-yong tetap berkomitmen untuk mendukung '\n",
      "            'perkembangan olahraga ini melalui visi dan misi yang menjadi '\n",
      "            'landasan berdirinya Shin TaeYong Football Academy.\"\\n'\n",
      "            '\\n'\n",
      "            'Kehadiran Shin TaeYong Football Academy di Indonesia membawa visi '\n",
      "            'serta misi untuk memimpin pengembangan sepak bola usia muda dan '\n",
      "            'memperkuat budaya olahraga Indonesia.\\n'\n",
      "            '\\n'\n",
      "            'Shin TaeYong Football Academy punya harapan bisa menjadi pintu '\n",
      "            'gerbang bagi para pesepak bola muda yang ingin merasakan latihan '\n",
      "            'level profesional.\\n'\n",
      "            '\\n'\n",
      "            'Pelatih berpengalaman, kurikulum sepak bola yang komprehensif, '\n",
      "            'dan fasilitas kelas satu, termasuk lapangan dengan standar FIFA, '\n",
      "            'menjadi sejumlah hal yang ditawarkan akademi milik STY.\\n'\n",
      "            '\\n'\n",
      "            '\"Kami memastikan bahwa Shin TaeYong Football Academy akan terus '\n",
      "            'berjalan dan berjanji untuk mencetak bibit unggul yang memiliki '\n",
      "            'fundamental kuat demi kemajuan sepak bola Indonesia,\" tulis Shin '\n",
      "            'TaeYong Football Academy.',\n",
      " 'title': 'Shin Tae-yong Cinta Sepak Bola Indonesia, Akademi Terus Berjalan',\n",
      " 'url': 'https://bola.kompas.com/read/2025/01/09/18300018/shin-tae-yong-cinta-sepak-bola-indonesia-akademi-terus-berjalan?source=headline'}\n"
     ]
    }
   ],
   "source": [
    "# data loading\n",
    "import json\n",
    "from pprint import pprint\n",
    "\n",
    "with open('../data/rag/data.json', 'r') as f_:\n",
    "    data = json.load(f_)\n",
    "\n",
    "pprint(data[0])"
   ]
  },
  {
   "cell_type": "code",
   "execution_count": null,
   "id": "938ad06f-5e21-4dff-b66e-b4239c934c1f",
   "metadata": {},
   "outputs": [],
   "source": [
    "lc_documents = []\n",
    "for d_idx, d in enumerate(data):\n",
    "    lc_documents.append(Document(d['content'], metadata={'title': d['title'], 'url': d['url']}))"
   ]
  },
  {
   "cell_type": "code",
   "execution_count": 21,
   "id": "a37b9a4b",
   "metadata": {},
   "outputs": [
    {
     "name": "stdout",
     "output_type": "stream",
     "text": [
      "KOMPAS.com - Shin Tae-yong telah diberhentikan dari tugas melatih timnas Indonesia. Kendati demikian, STY tetap ingin memajukan sepak bola Indonesia melalui akademinya\n",
      "\n",
      "Lembar perjalanan Shin Tae-yong sebagai pelatih timnas Indonesia resmi berakhir.\n",
      "\n",
      "Ketua Umum PSSI, Erick Thohir, menyampaikan langsung keputusan pemberhentian STY dalam sebuah sesi konferensi pers di Menara Danareksa, Jakarta, Senin (6/1/2025)\n",
      "\n",
      "Shin Tae-yong pun mesti mengakhiri pengabdian bersama timnas Indonesia lebih cepat, meski sejatinya ia masih terikat kontrak sampai 2027.\n",
      "\n",
      "Baca juga: Shin Tae-yong, Timnas Indonesia, dan Hierarki di Budaya Korea Selatan\n",
      "\n",
      "Kepergian STY dari kursi pelatih timnas Indonesia sempat menimbulkan pertanyaan tentang nasib akademi sang pelatih asal Korea Selatan di Tanah Air.\n",
      "\n",
      "Seperti diketahui, pada November 2024 silam, Shin TaeYong Football Academy, mulai beroperasi di Indonesia.\n",
      "\n",
      "View this post on Instagram A post shared by Shin TaeYong Football Academy (@shintaeyong_academy)\n",
      "\n",
      "Shin TaeYong Football Academy dipastikan akan terus berjalan meski kursi pelatih timnas Indonesia kini tak lagi diduduki sang pelatih asal Korea Selatan.\n",
      "\n",
      "\"Sebagai tanggapan atas berbagai pertanyaan yang berkembang di tengah masyarakat, kami ingin memberikan penjelasan yang tegas dan transparan,\" demikian bunyi keterangan Shin TaeYong Football Academy melalui Instagram.\n",
      "\n",
      "Baca juga: Marc Klok Ungkap Problem STY di Timnas Indonesia, Hierarki dan Komunikasi\n",
      "\n",
      "\"Dengan rasa cinta yang besar terhadap sepak bola Indonesia, coach Shin Tae-yong tetap berkomitmen untuk mendukung perkembangan olahraga ini melalui visi dan misi yang menjadi landasan berdirinya Shin TaeYong Football Academy.\"\n",
      "\n",
      "Kehadiran Shin TaeYong Football Academy di Indonesia membawa visi serta misi untuk memimpin pengembangan sepak bola usia muda dan memperkuat budaya olahraga Indonesia.\n",
      "\n",
      "Shin TaeYong Football Academy punya harapan bisa menjadi pintu gerbang bagi para pesepak bola muda yang ingin merasakan latihan level profesional.\n",
      "\n",
      "Pelatih berpengalaman, kurikulum sepak bola yang komprehensif, dan fasilitas kelas satu, termasuk lapangan dengan standar FIFA, menjadi sejumlah hal yang ditawarkan akademi milik STY.\n",
      "\n",
      "\"Kami memastikan bahwa Shin TaeYong Football Academy akan terus berjalan dan berjanji untuk mencetak bibit unggul yang memiliki fundamental kuat demi kemajuan sepak bola Indonesia,\" tulis Shin TaeYong Football Academy.\n"
     ]
    }
   ],
   "source": [
    "print(lc_documents[0].page_content)"
   ]
  },
  {
   "cell_type": "code",
   "execution_count": 22,
   "id": "da930e7b",
   "metadata": {},
   "outputs": [
    {
     "data": {
      "text/plain": [
       "['e77d7b8d-48a5-4602-937e-2e0d2a3d7a3d',\n",
       " '4d44a7ff-d450-4446-bff4-c3e28d78e181',\n",
       " 'a6df8745-8836-4ce0-b432-dcee952af14e',\n",
       " '9efe6493-4806-4861-bcd6-46ac08a34139',\n",
       " '4e7f8f3b-ecf3-4f69-8820-5145da89383d',\n",
       " 'e6343fa3-47a0-49c7-9fcc-12b5370f2217',\n",
       " 'c4caefa1-eb83-4649-954b-8852f33a5c24',\n",
       " '31c7112b-a5f7-49a8-a7e5-7542ea9ca599',\n",
       " 'e0d3ebd7-f91c-4280-9b91-5d09af7cdb09',\n",
       " 'e19288af-c61e-44da-bdd8-20dca9c9aa15',\n",
       " 'c20cdffe-7f8a-4735-b5c0-2d4af6b75bf4',\n",
       " 'dcc7fef5-743a-4db9-a61a-15bb0a31194c',\n",
       " 'f4d6e11c-9af9-402b-ad60-1444fcaa142b',\n",
       " '3b31358f-1ad4-4f61-92af-319db133c0e2',\n",
       " '67492148-89f0-4169-9991-c5a00db745b3',\n",
       " '5da51dad-0890-4d8a-93de-063fe19bdf0f',\n",
       " '722cab26-c938-42e5-9582-8be779ebb375',\n",
       " 'c5007892-ebb3-408b-bd72-91810fe364cf',\n",
       " '4125900f-b922-4510-8817-2d1a6fd8340c',\n",
       " '7ccb8047-59c1-4432-9287-6b4bfe39d7bf',\n",
       " '30710958-d6f7-4fb2-80d2-83d0dcc2441e']"
      ]
     },
     "execution_count": 22,
     "metadata": {},
     "output_type": "execute_result"
    }
   ],
   "source": [
    "# rebuild database\n",
    "try:\n",
    "    VECTORDB.delete_collection()\n",
    "except:\n",
    "    # pass if collection does not exist\n",
    "    pass\n",
    "# the Vector Database class requires an embedding model to automatically convert string to embedding\n",
    "VECTORDB = Chroma(persist_directory=VECTORDB_DIRECTORY, embedding_function=EMBEDDING_MODEL)\n",
    "# without chunking\n",
    "VECTORDB.add_documents(lc_documents)"
   ]
  },
  {
   "cell_type": "code",
   "execution_count": 25,
   "id": "ce835fc5",
   "metadata": {},
   "outputs": [],
   "source": [
    "# Chunking document: splitting the document into smaller pieces. \n",
    "# Recommended for LLMs that have a maximum token capacity that is not too large.\n",
    "\n",
    "from langchain.text_splitter import RecursiveCharacterTextSplitter\n",
    "\n",
    "text_splitter = RecursiveCharacterTextSplitter(chunk_size=1000, chunk_overlap=100)\n",
    "docs = text_splitter.split_documents(lc_documents)"
   ]
  },
  {
   "cell_type": "code",
   "execution_count": 26,
   "id": "b6c31a49",
   "metadata": {},
   "outputs": [
    {
     "name": "stdout",
     "output_type": "stream",
     "text": [
      "KOMPAS.com - Shin Tae-yong telah diberhentikan dari tugas melatih timnas Indonesia. Kendati demikian, STY tetap ingin memajukan sepak bola Indonesia melalui akademinya\n",
      "\n",
      "Lembar perjalanan Shin Tae-yong sebagai pelatih timnas Indonesia resmi berakhir.\n",
      "\n",
      "Ketua Umum PSSI, Erick Thohir, menyampaikan langsung keputusan pemberhentian STY dalam sebuah sesi konferensi pers di Menara Danareksa, Jakarta, Senin (6/1/2025)\n",
      "\n",
      "Shin Tae-yong pun mesti mengakhiri pengabdian bersama timnas Indonesia lebih cepat, meski sejatinya ia masih terikat kontrak sampai 2027.\n",
      "\n",
      "Baca juga: Shin Tae-yong, Timnas Indonesia, dan Hierarki di Budaya Korea Selatan\n",
      "\n",
      "Kepergian STY dari kursi pelatih timnas Indonesia sempat menimbulkan pertanyaan tentang nasib akademi sang pelatih asal Korea Selatan di Tanah Air.\n",
      "\n",
      "Seperti diketahui, pada November 2024 silam, Shin TaeYong Football Academy, mulai beroperasi di Indonesia.\n",
      "\n",
      "View this post on Instagram A post shared by Shin TaeYong Football Academy (@shintaeyong_academy)\n"
     ]
    }
   ],
   "source": [
    "print(docs[0].page_content)"
   ]
  },
  {
   "cell_type": "code",
   "execution_count": 27,
   "id": "956a8b49",
   "metadata": {},
   "outputs": [
    {
     "data": {
      "text/plain": [
       "['88979c75-224c-4853-875c-914ef1da954c',\n",
       " '5562ac25-8cb2-43c1-9821-47d7fc7bdbf8',\n",
       " '02e51e1c-4d3b-445f-a01b-8355f1a880ee',\n",
       " '5cb29158-7913-489d-a7aa-38a91ed0ff2a',\n",
       " 'dc208255-2f10-4489-b0d8-be51c70395ec',\n",
       " '4d3eec09-223f-4325-82ad-e77787fbad21',\n",
       " 'e623fb70-a2e5-402e-9ecf-5923e9dcec34',\n",
       " '9b46f0e9-1443-4afe-b66d-77cdd4c3be35',\n",
       " '9983594e-e3f4-42da-a30b-9095cd67a7d5',\n",
       " '0b54285d-996a-4226-863c-324224c75572',\n",
       " '95dd0d7e-8bfa-4b88-903c-893a7a5a1aca',\n",
       " '46f42e14-7bd6-429a-b830-43b4e10d6ca1',\n",
       " 'd3df6afc-a3b8-41e2-a85d-b946af4508bb',\n",
       " '035f6738-a335-4400-92a9-75e24c570d3d',\n",
       " '3a85608e-55d8-4964-94fa-bfd89e88eb3c',\n",
       " '8e54efd2-d94c-445c-88cc-19a2716fedee',\n",
       " 'ebfd2cfb-f93b-462e-98f1-3e7cc275f77c',\n",
       " '5040343a-49ff-4ad6-af64-cf765bcabe64',\n",
       " 'ff1a7dad-8555-4b5d-be71-14e031f6d9a8',\n",
       " '22890bb5-9173-467e-a17d-a60c6f095ba6',\n",
       " '4b8fdaf0-a684-460f-8c17-bd6f1fa42ae1',\n",
       " '11db1494-d1f7-4f44-96b4-b36e9cc98eb9',\n",
       " '62b44868-94d9-4d8b-bc3c-a8bbd5e95106',\n",
       " '029f6a65-01b6-4055-8bba-4a7b30e814b0',\n",
       " '127e59c5-7af3-4f9e-8290-4083f823ed0c',\n",
       " '3a83121c-2f5b-4eb4-83db-461709ff106c',\n",
       " 'ca06e377-0852-4dcf-96c1-d20f9995b49f',\n",
       " 'a288c639-2abb-4abb-918c-d70c9d6c1f5c',\n",
       " '28411462-8f46-4870-87d5-fbe8f80080eb',\n",
       " '63b78ea8-3937-4dff-95bd-749b0ce937b6',\n",
       " 'e30a872b-a1a1-47ce-a411-015c7886f970',\n",
       " '9ea45268-85cd-482b-b903-c5b1b2d83e40',\n",
       " 'd70f03dc-4184-473a-867d-4bca4c49777b',\n",
       " '1d3032b5-d973-4479-98c3-01cef1569b08',\n",
       " 'a2a153f9-8100-4f26-ba1a-59da892cb3f6',\n",
       " 'ca05984f-0b30-4a75-8cce-fb820d92e828',\n",
       " '4e628ad5-bce6-4e47-b7ba-1d72c2d5d487',\n",
       " '1dbb526b-7599-4b05-bd68-34d484a2fb6f',\n",
       " '4bb28687-fa49-49d5-99f9-5656281afe73',\n",
       " '905e42f7-5692-43d7-9343-6ad9c21b745a',\n",
       " 'be40a5c3-fff1-4a54-b38d-803ac8e9ea85',\n",
       " '498ba5f2-8729-4398-9582-48fe0355be61',\n",
       " '844f30bd-fee4-4639-9700-47b1e9ff0b66',\n",
       " '32ef90e2-851b-4c8a-bb21-19947ecc4392',\n",
       " 'e3283dfa-f0e2-41e4-a411-d8a36292cd3f',\n",
       " '4026b684-f97d-41c5-8085-4b7b791c6496',\n",
       " 'd9c9c74b-4375-4a3f-b9c8-287c33e2459d',\n",
       " 'ac40a151-a546-4007-ab43-5f06fd4e7ef9',\n",
       " '834cc9d5-8c81-4ad6-9f49-6adf18874466',\n",
       " '7b83279d-f34c-49c0-82d3-26fef7d66e2a',\n",
       " 'b31aa6be-9bf7-4707-9321-421f356bdf32',\n",
       " '66dbc3c7-71d0-47d2-8b37-12fe3113cb1a',\n",
       " 'fddb9860-c4f2-4a24-b30b-4de13f68766d',\n",
       " '4cd0bd12-24fd-494e-9cac-18195d37211f',\n",
       " '1aae1919-7f8a-4a14-81b9-8f8ee4744901',\n",
       " '1c2363d8-bee3-444a-b1ce-9f528c608e38',\n",
       " '1da8bdd8-ecca-40fd-836d-291071141707',\n",
       " 'b5e62d10-1936-40d4-9abc-0bf8e4734f99',\n",
       " '9e14b347-6b8d-4b26-9d4d-3d80547bc8f2',\n",
       " 'd947c1f8-747d-4eb9-9109-4c40a7a2e531',\n",
       " '9f7c146d-418b-4362-90a6-9f15bb549f4f',\n",
       " 'ad81990d-fd4a-4b37-bad9-34e059eccb4f',\n",
       " 'b98b272e-c237-4055-937b-829888807650',\n",
       " '9571da1b-4ff6-4c4c-a65f-6dd6a26f5aeb',\n",
       " '2554f8ad-c1b3-473f-ba55-98fe4ed0f8b6',\n",
       " '89e24f70-61fc-466a-99e8-7df6ef80238b']"
      ]
     },
     "execution_count": 27,
     "metadata": {},
     "output_type": "execute_result"
    }
   ],
   "source": [
    "# rebuild database\n",
    "try:\n",
    "    VECTORDB.delete_collection()\n",
    "except:\n",
    "    # pass if collection does not exist\n",
    "    pass\n",
    "# the Vector Database class requires an embedding model to automatically convert string to embedding\n",
    "VECTORDB = Chroma(persist_directory=VECTORDB_DIRECTORY, embedding_function=EMBEDDING_MODEL)\n",
    "# with chunking\n",
    "VECTORDB.add_documents(docs)"
   ]
  },
  {
   "cell_type": "code",
   "execution_count": 57,
   "id": "c5faedb6-d9f5-4be3-909e-ae16f33643f9",
   "metadata": {},
   "outputs": [],
   "source": [
    "# Given a string, we calculate the top k similar document \n",
    "def find_similar_documents(q: str, k: Optional[int]=1) -> list[str]:\n",
    "    return map(\n",
    "        lambda _: _.page_content, # get only page_content from result\n",
    "        VECTORDB.as_retriever(\n",
    "            search_type=\"similarity_score_threshold\", \n",
    "            search_kwargs={\"k\": k, \"score_threshold\": 0.1}\n",
    "        ).invoke(q)\n",
    "    )"
   ]
  },
  {
   "cell_type": "code",
   "execution_count": 58,
   "id": "19ce487c-fcc0-4a6c-b1b7-35c2b56a5ea9",
   "metadata": {},
   "outputs": [],
   "source": [
    "def combine_query_with_documents(q: str, docs: list[str]) -> str:\n",
    "    context_str = \"\\n\".join(docs)\n",
    "    final_q = f\"\"\"\n",
    "Konteks tambahan yang digunakan adalah berikut.\n",
    "---------------------\n",
    "{context_str}\n",
    "---------------------\n",
    "Dengan mempertimbangkan hanya informasi konteks dan bukan pengetahuan sebelumnya, \\\n",
    "jawab pertanyaan dibawah dengan benar dan tolak jika jawabannya tidak ditemukan \\\n",
    "pada konteks di atas.\n",
    "Pertanyaan: {q}\n",
    "    \"\"\"\n",
    "    return final_q"
   ]
  },
  {
   "cell_type": "code",
   "execution_count": 59,
   "id": "576c5e94-8399-45a5-93ae-fc7e2c137fc6",
   "metadata": {},
   "outputs": [
    {
     "name": "stdout",
     "output_type": "stream",
     "text": [
      "\n",
      "Konteks tambahan yang digunakan adalah berikut.\n",
      "---------------------\n",
      "Baca juga: Marc Klok Ungkap Problem STY di Timnas Indonesia, Hierarki dan Komunikasi\n",
      "\n",
      "\"Banyak orang Belanda yang bergabung dan bagi mereka hierarki itu sedikit berbeda.”\n",
      "\n",
      "“Federasi, mereka menyimpulkan bahwa tim harus menjadi lebih utuh, dengan sedikit penekanan pada hierarki dan lebih banyak bekerja sama dan menjadi satu kesatuan,” ucap Klok soal alasan PSSI mendepak STY.\"\n",
      "\n",
      "Hierarki di budaya Korea Selatan ini juga menjadi topik diskusi Kompas.com dengan jurnalis Korea Selatan, Jason Lee, dalam wawancara pada Rabu (8/1/2025).\n",
      "\n",
      "\"Dalam suatu level, hierarki ini ada tetapi juga sangat tergantung dari manajer itu sendiri,\" tuturnya melalui sambungan telekonferensi.\n",
      "\n",
      "\"Beberapa manajer lebih terbuka terhadap masukan dan diskusi taktik. Tapi juga tergantung ke kualitas pemain. Misalnya, Shin Tae-yong masih pelatih Korsel dan Son Heung-min datang berbicara untuk bahas taktik, apakah ia akan bereaksi buruk? Menurut saya tidak.\"\n",
      "\n",
      "\"Sekarang ini status Son mungkin lebih tinggi dari STY.\"\n",
      "---------------------\n",
      "Dengan mempertimbangkan hanya informasi konteks dan bukan pengetahuan sebelumnya, jawab pertanyaan dibawah dengan benar dan tolak jika jawabannya tidak ditemukan pada konteks di atas.\n",
      "Pertanyaan: Kenapa STY diganti?\n",
      "    \n"
     ]
    }
   ],
   "source": [
    "q = 'Kenapa STY diganti?'\n",
    "similar_docs = find_similar_documents(q)\n",
    "q_with_context = combine_query_with_documents(q, similar_docs)\n",
    "\n",
    "print(q_with_context)"
   ]
  },
  {
   "cell_type": "code",
   "execution_count": 60,
   "id": "7f5e0004-9b04-4270-b020-2e47b41f23fc",
   "metadata": {},
   "outputs": [],
   "source": [
    "llm = ChatGoogleGenerativeAI(model=\"gemini-1.5-flash\")\n",
    "response = llm.invoke(q_with_context)"
   ]
  },
  {
   "cell_type": "code",
   "execution_count": 61,
   "id": "35088aae-eb20-4fd2-84b6-e7dc38236af6",
   "metadata": {},
   "outputs": [
    {
     "data": {
      "text/plain": [
       "'Berdasarkan konteks yang diberikan, PSSI mendepak STY karena federasi menyimpulkan bahwa tim harus menjadi lebih utuh, dengan sedikit penekanan pada hierarki dan lebih banyak bekerja sama dan menjadi satu kesatuan.  Marc Klok menghubungkan hal ini dengan perbedaan hierarki, khususnya  dengan banyaknya pemain Belanda yang bergabung dalam tim.'"
      ]
     },
     "execution_count": 61,
     "metadata": {},
     "output_type": "execute_result"
    }
   ],
   "source": [
    "response.content"
   ]
  },
  {
   "cell_type": "code",
   "execution_count": 63,
   "id": "d08b7098-4d9c-4110-9783-cdfb290cf6aa",
   "metadata": {},
   "outputs": [
    {
     "name": "stdout",
     "output_type": "stream",
     "text": [
      "Program Makan Bergizi Gratis (MBG) resmi diluncurkan pada Senin, 6 Januari 2025.\n"
     ]
    }
   ],
   "source": [
    "q = 'Kapan Makan Gratis Dimulai?'\n",
    "similar_docs = find_similar_documents(q, 3)\n",
    "q_with_context = combine_query_with_documents(q, similar_docs)\n",
    "response = llm.invoke(q_with_context)\n",
    "print(response.content)"
   ]
  },
  {
   "cell_type": "markdown",
   "id": "4126d56f-cd8c-44f5-b26c-fa2a299dbeaa",
   "metadata": {},
   "source": [
    "# RAG with LCEL"
   ]
  },
  {
   "cell_type": "markdown",
   "id": "826688a6-cd65-4fdc-9e75-edbc8d21968a",
   "metadata": {},
   "source": [
    "LangChain provide us with another easier way to combine multiple invocation into one chain using LangChain Expression Language.\n",
    "Since our vector DB can be used as a runnable (with `as_retriever` function), we could:"
   ]
  },
  {
   "cell_type": "code",
   "execution_count": 64,
   "id": "f14d7c0e-1b16-478c-b13f-75c66aa0fb04",
   "metadata": {},
   "outputs": [],
   "source": [
    "from langchain.schema.runnable import RunnablePassthrough\n",
    "from langchain_core.prompts import PromptTemplate\n",
    "\n",
    "prompt_str = \"\"\"\n",
    "Konteks tambahan yang digunakan adalah berikut.\n",
    "---------------------\n",
    "{context}\n",
    "---------------------\n",
    "Dengan mempertimbangkan hanya informasi konteks dan bukan pengetahuan sebelumnya, \\\n",
    "jawab pertanyaan dibawah dengan benar dan tolak jika jawabannya tidak ditemukan \\\n",
    "pada konteks di atas.\n",
    "Pertanyaan: {question}\n",
    "\"\"\"\n",
    "\n",
    "k=3\n",
    "retriever = VECTORDB.as_retriever(\n",
    "                search_type=\"similarity_score_threshold\", \n",
    "                search_kwargs={\"k\": k, \"score_threshold\": 0.1}\n",
    "            )\n",
    "prompt = PromptTemplate.from_template(prompt_str)\n",
    "\n",
    "RAG = (\n",
    "    {'context': retriever, 'question': RunnablePassthrough()}\n",
    "    | prompt\n",
    "    | llm\n",
    ")"
   ]
  },
  {
   "cell_type": "code",
   "execution_count": 65,
   "id": "1472a512-5890-43fb-9892-33ad91fbe670",
   "metadata": {},
   "outputs": [],
   "source": [
    "res = RAG.invoke('Kapan makan gratis dimulai?')"
   ]
  },
  {
   "cell_type": "code",
   "execution_count": 67,
   "id": "c0bad223-01f9-40f5-9157-669c33dac355",
   "metadata": {},
   "outputs": [
    {
     "data": {
      "text/plain": [
       "'Berdasarkan konteks yang diberikan, program makan bergizi gratis (sebelumnya disebut makan siang gratis) dimulai pada 6 Januari 2025.'"
      ]
     },
     "execution_count": 67,
     "metadata": {},
     "output_type": "execute_result"
    }
   ],
   "source": [
    "res.content"
   ]
  },
  {
   "cell_type": "code",
   "execution_count": null,
   "id": "8d1012c8",
   "metadata": {},
   "outputs": [],
   "source": []
  }
 ],
 "metadata": {
  "kernelspec": {
   "display_name": "mini",
   "language": "python",
   "name": "python3"
  },
  "language_info": {
   "codemirror_mode": {
    "name": "ipython",
    "version": 3
   },
   "file_extension": ".py",
   "mimetype": "text/x-python",
   "name": "python",
   "nbconvert_exporter": "python",
   "pygments_lexer": "ipython3",
   "version": "3.11.11"
  }
 },
 "nbformat": 4,
 "nbformat_minor": 5
}
