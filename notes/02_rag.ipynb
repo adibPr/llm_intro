{
 "cells": [
  {
   "cell_type": "code",
   "execution_count": 16,
   "id": "bdc60be3-bfc9-4385-b3df-bff583528efd",
   "metadata": {},
   "outputs": [],
   "source": [
    "import os\n",
    "import sys\n",
    "\n",
    "from dotenv import load_dotenv, find_dotenv\n",
    "import numpy as np\n",
    "\n",
    "from langchain_google_genai import ChatGoogleGenerativeAI\n",
    "from langchain_core.messages import HumanMessage, SystemMessage\n",
    "\n",
    "\n",
    "# new import\n",
    "from langchain_google_genai import GoogleGenerativeAIEmbeddings # embedding from Google\n",
    "from langchain_community.vectorstores import Chroma # access chroma from LangChain"
   ]
  },
  {
   "cell_type": "code",
   "execution_count": 5,
   "id": "e0884f1c-e032-43ae-9208-856b2be799ac",
   "metadata": {},
   "outputs": [],
   "source": [
    "# make sure GOOGLE_API_KEY (or any other llm provider, must exactly the same)\n",
    "_ = load_dotenv(find_dotenv())\n",
    "# or put it into variable and pass it to llm model \n",
    "# google_api_key = os.getenv('GOOGLE_API_KEY') # pass this to the model creation"
   ]
  },
  {
   "cell_type": "markdown",
   "id": "51ad3819-bf2f-4934-bd1b-2a629101111e",
   "metadata": {},
   "source": [
    "# RAG Concept"
   ]
  },
  {
   "cell_type": "markdown",
   "id": "96d3f89e-0849-48de-8712-9470989d1e2c",
   "metadata": {},
   "source": [
    "# Embedding\n",
    "\n",
    "At the heart of every LLM is embedding, which convert a string, into a vector representation. The idea is that with vector representation, we could compare two sentences similarity based on it's vector distance. "
   ]
  },
  {
   "cell_type": "code",
   "execution_count": 7,
   "id": "cf05a71e-97e6-4626-be15-5cc7e24c51f2",
   "metadata": {},
   "outputs": [],
   "source": [
    "EMBEDDING_MODEL = GoogleGenerativeAIEmbeddings(model='models/text-embedding-004')"
   ]
  },
  {
   "cell_type": "code",
   "execution_count": 11,
   "id": "35ddc4d9-5dfe-4470-b115-d6a1dabe8503",
   "metadata": {},
   "outputs": [],
   "source": [
    "vec_query = EMBEDDING_MODEL.embed_query(\"Hello World\")"
   ]
  },
  {
   "cell_type": "code",
   "execution_count": 17,
   "id": "a158e3be-6fae-40ba-b15a-d26827f5f4c8",
   "metadata": {},
   "outputs": [],
   "source": [
    "vec_query = np.array(vec_query)"
   ]
  },
  {
   "cell_type": "code",
   "execution_count": 18,
   "id": "acca2e0d-02b6-43e3-ae7b-322bc880eb6e",
   "metadata": {},
   "outputs": [
    {
     "data": {
      "text/plain": [
       "(768,)"
      ]
     },
     "execution_count": 18,
     "metadata": {},
     "output_type": "execute_result"
    }
   ],
   "source": [
    "vec_query.shape # Google Text Embedding 004 embedding size is 768, different model have different size"
   ]
  },
  {
   "cell_type": "code",
   "execution_count": 44,
   "id": "db6f02b5-bc46-4b63-87f4-98885797b875",
   "metadata": {},
   "outputs": [],
   "source": [
    "contents = [\n",
    "    \"Cuacanya sangat dingin hari ini\",\n",
    "    \"Buku terbaru yang ada di toko sangat bagus\",\n",
    "    \"Taman itu berada di daerah Jakarta Kota\"\n",
    "]\n",
    "vec_contents = np.array([EMBEDDING_MODEL.embed_query(_) for _ in contents])"
   ]
  },
  {
   "cell_type": "code",
   "execution_count": 25,
   "id": "c881fe25-d55b-4385-bb21-150deebdbf8d",
   "metadata": {},
   "outputs": [
    {
     "data": {
      "text/plain": [
       "(3, 768)"
      ]
     },
     "execution_count": 25,
     "metadata": {},
     "output_type": "execute_result"
    }
   ],
   "source": [
    "vec_contents.shape"
   ]
  },
  {
   "cell_type": "code",
   "execution_count": 49,
   "id": "39f9bccb-c80e-4d97-8998-f122e7e269da",
   "metadata": {},
   "outputs": [],
   "source": [
    "query = \"Di dekat sini terdapat area hijau yang bagus dan rimbun\"\n",
    "vec_query = np.array(EMBEDDING_MODEL.embed_query(query))"
   ]
  },
  {
   "cell_type": "code",
   "execution_count": 50,
   "id": "6a776220-1ccd-40ae-bca3-a1d551719ce5",
   "metadata": {},
   "outputs": [
    {
     "data": {
      "text/plain": [
       "array([0.96018157, 0.95823276, 0.78226486])"
      ]
     },
     "execution_count": 50,
     "metadata": {},
     "output_type": "execute_result"
    }
   ],
   "source": [
    "# https://stackoverflow.com/questions/1401712/how-can-the-euclidean-distance-be-calculated-with-numpy\n",
    "# euclidean distance, the lower means more similar\n",
    "np.linalg.norm(vec_query-vec_contents, axis=1)"
   ]
  }
 ],
 "metadata": {
  "kernelspec": {
   "display_name": "Python 3 (ipykernel)",
   "language": "python",
   "name": "python3"
  },
  "language_info": {
   "codemirror_mode": {
    "name": "ipython",
    "version": 3
   },
   "file_extension": ".py",
   "mimetype": "text/x-python",
   "name": "python",
   "nbconvert_exporter": "python",
   "pygments_lexer": "ipython3",
   "version": "3.10.16"
  }
 },
 "nbformat": 4,
 "nbformat_minor": 5
}
