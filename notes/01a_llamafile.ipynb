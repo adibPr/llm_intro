{
 "cells": [
  {
   "cell_type": "markdown",
   "id": "aeb2c737-71c8-4c1e-b484-a3f94a0f715c",
   "metadata": {},
   "source": [
    "# Local Llama"
   ]
  },
  {
   "cell_type": "markdown",
   "id": "631dd2f0-933a-451c-a722-c8435b07dc7b",
   "metadata": {},
   "source": [
    "There are many way to run Llama locally: HuggingFace (if you have the GPU), local [Ollama](https://ollama.com/), [vllm](https://github.com/vllm-project/vllm), [Llamafile](https://github.com/Mozilla-Ocho/llamafile) or [llama.cpp](https://github.com/ggerganov/llama.cpp).\n",
    "\n",
    "This notes show how to use llamacpp in the server, and `LlamaCpp` langchain API.\n",
    "\n",
    "To start, install `llama-cpp-python` first (see [here](https://python.langchain.com/docs/integrations/llms/llamacpp/)). Then download the model from HuggingFace. Choose a model that might fit to our memory, for example [TinyLlama](https://huggingface.co/TinyLlama/TinyLlama-1.1B-Chat-v1.0). Download the .gguf file (the quantized model), then run load the model."
   ]
  },
  {
   "cell_type": "code",
   "execution_count": 74,
   "id": "9decb60b-fcfe-424f-ae72-a265f0958d04",
   "metadata": {},
   "outputs": [],
   "source": [
    "from langchain_community.llms import LlamaCpp, Llamafile\n",
    "from langchain_core.callbacks import CallbackManager, StreamingStdOutCallbackHandler\n",
    "from langchain_core.prompts import PromptTemplate\n",
    "\n",
    "# Using LlamaCpp\n",
    "# callback_manager = CallbackManager([StreamingStdOutCallbackHandler()]) #since llama.cpp is stdout handler\n",
    "# llm = LlamaCpp(model_path='../model/tinyllama-1.1b-chat-v1.0.Q2_K.gguf',  callback_manager=callback_manager, verbose=True)\n",
    "\n",
    "# or using LlamaFile\n",
    "llm = Llamafile()"
   ]
  },
  {
   "cell_type": "code",
   "execution_count": 70,
   "id": "3131463a-ec42-4cbd-96ad-e932ef4f4ffb",
   "metadata": {},
   "outputs": [],
   "source": [
    "\n",
    "# some llm requires a specific template system (due to how they train), so we must adhere to them to get a better result\n",
    "template = \"\"\"\n",
    "<|system|>\n",
    "You are a helpful assistant to answer question with simple answer. \n",
    "Answer only the question asked.\n",
    "<|user|>\n",
    "{question}\n",
    "<|assitant|>\n",
    "\"\"\"\n",
    "prompt = PromptTemplate.from_template(template)\n",
    "\n",
    "s = ( prompt | llm).invoke('Why Germany invade France in WW2? and why France can\\'t defend it?')"
   ]
  },
  {
   "cell_type": "code",
   "execution_count": 71,
   "id": "6b7db9b0-c219-4fd3-b2e0-37dbcd0c4f98",
   "metadata": {},
   "outputs": [
    {
     "name": "stdout",
     "output_type": "stream",
     "text": [
      "Germany's invasion of France was ordered by Adolf Hitler, who saw the Allied Powers (British, French, Soviet) as a potential threat to his growing power. The Germans believed that their strategy of massive bombing attacks on cities, along with the threat of German military might, would weaken their enemies and result in a humiliating defeat. In response, France invaded Germany in 1940. However, the French were outnumbered by many times and had to rely heavily on air power to overcome the enemy's defensive tactics. The Allied Powers responded with massive bombing campaigns that devastated German infrastructure, causing significant damage to the war effort.\n"
     ]
    }
   ],
   "source": [
    "print(s)"
   ]
  },
  {
   "cell_type": "code",
   "execution_count": 76,
   "id": "77ff16f7-2e70-4873-9fb9-13bea4d87e71",
   "metadata": {},
   "outputs": [],
   "source": [
    "s = ( prompt | llm).invoke('How to create and build habit?')"
   ]
  },
  {
   "cell_type": "code",
   "execution_count": 77,
   "id": "6b4c270c-7c58-416e-8923-7e64f4c87014",
   "metadata": {},
   "outputs": [
    {
     "name": "stdout",
     "output_type": "stream",
     "text": [
      "Habits can be created or broken through consistency in effortless actions. Here's how you can create and build habits:\n",
      "\n",
      "1. Identify your goal (or goals) - this will help guide your actions.\n",
      "2. Create the actionable steps/steps for achieving your goal(s).\n",
      "3. Establish a routine or schedule for those steps.\n",
      "4. Set small, achievable goals within that routine/schedule.\n",
      "5. Practice regularly in achieving these small goals.\n",
      "6. Reward yourself with something you enjoy (like coffee) after achieving each goal(s).\n",
      "7. Make this process a habit - a habit is a routine or schedule, repeated actions over time.\n",
      "8. Consistent effort (like consistently putting in the same amount of work every day/week).\n",
      "9. Regularity and persistence are key to creating and building habits.\n",
      "10. Finally, make it fun! \n",
      "\n",
      "Hope this helps!\n"
     ]
    }
   ],
   "source": [
    "print(s)"
   ]
  }
 ],
 "metadata": {
  "kernelspec": {
   "display_name": "Python 3 (ipykernel)",
   "language": "python",
   "name": "python3"
  },
  "language_info": {
   "codemirror_mode": {
    "name": "ipython",
    "version": 3
   },
   "file_extension": ".py",
   "mimetype": "text/x-python",
   "name": "python",
   "nbconvert_exporter": "python",
   "pygments_lexer": "ipython3",
   "version": "3.10.16"
  }
 },
 "nbformat": 4,
 "nbformat_minor": 5
}
