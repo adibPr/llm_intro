{
 "cells": [
  {
   "cell_type": "code",
   "execution_count": null,
   "metadata": {},
   "outputs": [],
   "source": [
    "!pip install langchain-google-genai langchain-community chromadb"
   ]
  },
  {
   "cell_type": "code",
   "execution_count": 82,
   "metadata": {},
   "outputs": [
    {
     "data": {
      "text/plain": [
       "True"
      ]
     },
     "execution_count": 82,
     "metadata": {},
     "output_type": "execute_result"
    }
   ],
   "source": [
    "import os\n",
    "from dotenv import load_dotenv, find_dotenv\n",
    "\n",
    "load_dotenv(find_dotenv())"
   ]
  },
  {
   "cell_type": "code",
   "execution_count": 83,
   "metadata": {},
   "outputs": [],
   "source": [
    "from langchain_google_genai.embeddings import GoogleGenerativeAIEmbeddings\n",
    "from langchain_community.vectorstores import Chroma\n"
   ]
  },
  {
   "cell_type": "code",
   "execution_count": 84,
   "metadata": {},
   "outputs": [],
   "source": [
    "embedding = GoogleGenerativeAIEmbeddings(model='models/text-embedding-004', google_api_key=os.environ['GOOGLE_API_KEY'])"
   ]
  },
  {
   "cell_type": "code",
   "execution_count": 5,
   "metadata": {},
   "outputs": [],
   "source": [
    "vector = embedding.embed_query(\"selamat berpuasa\")"
   ]
  },
  {
   "cell_type": "code",
   "execution_count": 7,
   "metadata": {},
   "outputs": [
    {
     "name": "stdout",
     "output_type": "stream",
     "text": [
      "[-0.004447713494300842, 0.05146537721157074, -0.009199962019920349, -0.06538032740354538, -0.009959869086742401, -0.0028077526949346066, -0.024715419858694077, 0.006148354150354862, 0.018959129229187965, 0.0048907543532550335, -0.026598935946822166, 0.057210590690374374, 0.1298210769891739, -0.004602176137268543, -0.04404996335506439, -0.0838746502995491, -0.05123405158519745, 0.004484518431127071, -0.05732777342200279, -0.04776960611343384, -0.0076996563002467155, 0.026460926979780197, 0.03886369988322258, -0.049099113792181015, -0.08407851308584213, -0.0038402604404836893, -0.010827979072928429, 0.033158160746097565, -7.23190896678716e-05, 0.02068307064473629, 0.03589291125535965, 0.0008942686254158616, -0.004336362238973379, -0.023754101246595383, 0.003948349505662918, 0.024085674434900284, -0.016636960208415985, 0.023709025233983994, 0.007703728973865509, -0.10616116970777512, -0.06437521427869797, 0.0463915653526783, -0.010202288627624512, 0.04471911862492561, -0.03417298197746277, 0.0030959604773670435, -0.04196162149310112, 0.00869850441813469, 0.014601229690015316, 0.05330807343125343, 0.056767866015434265, -0.023605911061167717, -0.009945916943252087, 0.06787028163671494, -0.042989328503608704, -0.03623724356293678, -0.01185725536197424, -0.023397741839289665, 0.013135135173797607, 0.015437480062246323, -0.06369555741548538, -0.014873236417770386, -0.029285408556461334, -0.037993647158145905, -0.01465220283716917, -0.0008142520673573017, -0.03554144129157066, -0.009078620001673698, -0.01989932917058468, -0.023887602612376213, -0.012415959499776363, -0.019205912947654724, -0.029358230531215668, 0.01089775562286377, 0.04669182375073433, -0.053302787244319916, 0.0018813339993357658, -0.04392411187291145, 0.010552546009421349, 0.02226150408387184, 0.002124411752447486, -0.0006981233600527048, 0.04264688864350319, 0.010448002256453037, 0.007609877735376358, 0.050444573163986206, -0.012313658371567726, -0.023047015070915222, -0.028077878057956696, 0.033219993114471436, 0.005679036024957895, -0.026765357702970505, -0.04051033779978752, -0.025779064744710922, 0.02325500175356865, -0.029133355244994164, -0.048515625298023224, -0.020918941125273705, 0.0578310452401638, 0.012089596129953861, 0.02942757122218609, -0.011247087270021439, 0.0053416951559484005, -0.0206348467618227, 0.025419214740395546, 0.020265620201826096, 0.011817497201263905, -0.0067771850153803825, 0.01322825439274311, 0.01611057110130787, -0.009428165853023529, -0.020000005140900612, 0.02112203650176525, 0.07143335044384003, 0.014005216769874096, -0.00930881593376398, 0.013298717327415943, 0.0026445253752171993, -0.03804440796375275, -0.001847477164119482, 0.03752348944544792, 0.017423365265130997, -0.014127287082374096, 0.03826454281806946, -0.0013745342148467898, 0.007251279894262552, 0.004953915253281593, -0.025427397340536118, 0.0010188258020207286, -0.016493985429406166, 0.05237835273146629, 0.0031632676254957914, 0.03976312279701233, 0.04126717150211334, -0.05147789046168327, -0.06840790808200836, 0.048128463327884674, -0.008835108950734138, 0.04380947723984718, -0.0655616894364357, -0.00770089216530323, 0.019543157890439034, -0.05489390715956688, 0.06178306043148041, 0.02334444783627987, -0.007233704440295696, 0.014422707259654999, 0.017638418823480606, -0.023738177493214607, -0.008250203914940357, -0.03279595449566841, -0.010524841025471687, 0.027311651036143303, -0.046292949467897415, -0.028610803186893463, -0.0016728331102058291, -0.01189727894961834, -0.09808510541915894, 0.03478144481778145, 0.00195086351595819, 0.019322147592902184, -0.10620523989200592, -0.0032160894479602575, 0.009885969571769238, -0.016975056380033493, -0.01660054177045822, -0.02805686742067337, -0.023611199110746384, 0.002057845937088132, -0.015487493015825748, -0.03703473508358002, -0.021380972117185593, -0.03516894578933716, -0.07215160131454468, -0.05197587236762047, 0.031105659902095795, -0.045453570783138275, 0.0035821988712996244, -0.022653643041849136, -0.03095792606472969, 0.06397650390863419, 0.015972374007105827, 0.018746472895145416, -0.01181610394269228, -0.038870878517627716, 0.0347452387213707, -0.03262430056929588, 0.02037489227950573, 0.011948192492127419, 0.004732746165245771, -0.005966649856418371, -0.0024483304005116224, -0.05970489978790283, 0.03454584255814552, -0.02048812434077263, 0.0037230742163956165, 0.046986788511276245, -0.02358880080282688, 0.0289243645966053, -0.021825101226568222, 0.02421675994992256, -0.008209727704524994, -0.028648512437939644, 0.02487872540950775, -0.030002808198332787, -0.012315260246396065, -0.05323689058423042, -0.06876641511917114, -0.043255891650915146, 0.012627709656953812, -0.04358085244894028, 0.059097569435834885, -0.036913301795721054, -0.06938724964857101, 0.01016599964350462, 0.014936269260942936, 0.04745263606309891, 0.02819020301103592, -0.01847279816865921, -0.020592208951711655, -0.000883743166923523, 0.051066163927316666, -0.0022780527360737324, 0.022160492837429047, 0.0485563687980175, 0.007546853274106979, 0.02072807401418686, -0.02694757841527462, -0.026157787069678307, -0.004464463330805302, -0.02504034712910652, 0.034107666462659836, -0.01311484444886446, 0.0635984018445015, 0.013780560344457626, 0.07233777642250061, 0.03178112208843231, 0.006814668420702219, 0.03223523125052452, 0.02815181016921997, -0.001320073613896966, 0.04012463614344597, 0.060894470661878586, 0.03152276203036308, 0.06478359550237656, -0.04172241687774658, 0.08673162758350372, 0.04327132925391197, 0.06624844670295715, -0.06607677042484283, 0.008183442987501621, 0.004348411690443754, 0.08264859765768051, -0.016928397119045258, -0.033166635781526566, -0.09871494770050049, 0.02930370904505253, -0.052951302379369736, -0.003518776036798954, -0.05319104716181755, 0.018713245168328285, -0.03587654232978821, 0.008029833436012268, -0.051135797053575516, 0.019807441160082817, -0.05193357542157173, -0.02794507145881653, 0.032110121101140976, 0.03679618984460831, -0.016905494034290314, -0.030708497390151024, -0.03555566072463989, -0.03460897132754326, 0.0004170225001871586, 8.5756866610609e-05, 0.01126941666007042, 0.04241843521595001, 0.04717453941702843, -0.045607902109622955, -0.026959512382745743, -0.0008304605726152658, -0.02071780525147915, -0.04653655365109444, -0.04647313058376312, 0.0033745048567652702, -0.07128892838954926, 0.06544259935617447, 0.009213650599122047, 0.017477991059422493, 0.030465977266430855, 0.004173590335994959, 0.04338795691728592, 0.08647918701171875, -0.03974700719118118, 0.020555885508656502, 0.0008614976541139185, 0.0006400966667570174, 0.011138049885630608, -0.015096609480679035, -0.030962437391281128, -0.0027796777430921793, 0.024708766490221024, -0.06929851323366165, 0.03759641945362091, -0.018681026995182037, -0.020265650004148483, -0.042117804288864136, -0.003510570852085948, -0.04620210453867912, 0.011347332037985325, 0.021511035040020943, 0.08261444419622421, -0.005857639014720917, 0.0003786601300816983, -0.0416775643825531, 0.06637895852327347, -0.07626184076070786, -0.004323318600654602, -0.03251047059893608, -0.0034279983956366777, -0.0013753350358456373, 0.029769767075777054, -0.04066365212202072, 0.01641952246427536, 0.04483936354517937, -0.047483891248703, 0.01170637458562851, 0.0108262337744236, -0.003471446456387639, -0.010070964694023132, 0.010410767048597336, 0.015777625143527985, 0.045557402074337006, -0.022959129884839058, -0.00448013236746192, 0.032210350036621094, -0.07169432938098907, -0.01195929478853941, 0.06707724928855896, -0.00191264390014112, 0.0071380711160600185, 0.03666924312710762, 0.06585122644901276, 0.03624346852302551, -0.018319113180041313, -0.014470849186182022, -0.011883003637194633, -0.0016114426543936133, -0.028432635590434074, -0.04140036553144455, 0.01810518652200699, 0.022921927273273468, 0.02576559968292713, -0.008878963999450207, -0.011668495833873749, 0.033243753015995026, 0.009029245004057884, -0.032182835042476654, 0.039861489087343216, -0.026914212852716446, -0.002907083136960864, 0.04919114336371422, -0.022023936733603477, -0.017678264528512955, -0.02187207154929638, -0.03577041998505592, 0.037715692073106766, 0.03783014416694641, 0.029299110174179077, -0.06357499957084656, -0.04594346508383751, 0.03504493460059166, -0.03595203533768654, 0.012380635365843773, -0.007363753858953714, -0.03735800087451935, -0.016550792381167412, -0.010042033158242702, 0.017016388475894928, 0.014723299071192741, 0.032742250710725784, -0.03297073394060135, 0.0016465455992147326, 0.03399154916405678, -0.06784967333078384, -0.00045331986621022224, -0.07115630805492401, -0.05178949236869812, -0.011377091519534588, 0.021228354424238205, 0.019363366067409515, 0.13213762640953064, 0.030276775360107422, 0.05342862382531166, -0.022234786301851273, 0.029635725542902946, -0.026997379958629608, 0.052116770297288895, -0.019395317882299423, -0.009344799444079399, 0.034794315695762634, -0.08538772910833359, 0.05878940969705582, -0.005588676314800978, 0.03399321809411049, -0.05771908536553383, 0.03194497153162956, 0.0017665744526311755, -0.009996793232858181, -0.03810045123100281, -0.03528767451643944, -0.03077971376478672, -0.027828190475702286, -0.0021826860029250383, -0.031117787584662437, -0.03751727193593979, 0.0021339175291359425, 0.0014947050949558616, 0.01910085789859295, -0.009283732622861862, -0.01965559460222721, 0.037822842597961426, 0.022472156211733818, 0.00903515238314867, -0.03494355082511902, -0.036895424127578735, -0.007516216486692429, 0.002961084246635437, -0.033130016177892685, -0.014693326316773891, 0.03609444200992584, 0.07655952870845795, 0.0013019600883126259, -0.020835867151618004, 0.047931279987096786, 0.025696372613310814, -0.02900000847876072, 0.05495988205075264, -0.050762977451086044, 0.012240441516041756, -0.1277795284986496, -0.03801814466714859, -0.030237611383199692, 0.026841722428798676, -0.0028593880124390125, 0.03656792268157005, 0.05745414271950722, -0.026399802416563034, -0.027698121964931488, -0.0016737274127081037, 0.0055451905354857445, -0.055260468274354935, 0.010294893756508827, -0.014865362085402012, -0.010781846940517426, 0.009418427012860775, 0.0011337966425344348, 0.03708760440349579, 0.030290229246020317, 0.013125037774443626, -0.03146013617515564, 0.008238541893661022, 0.04067614674568176, -0.0360698439180851, -0.007747740019112825, -0.042157527059316635, -0.031074637547135353, 0.05353003740310669, -0.0007327737985178828, 0.06664648652076721, 0.03154383599758148, -0.03727932274341583, -0.003054840723052621, -0.04900084435939789, -0.06555651128292084, 0.001982346409931779, 0.020869705826044083, 0.039042893797159195, -0.06508937478065491, -0.017659692093729973, -0.017090557143092155, 0.008718124590814114, 0.06025996804237366, -0.008521893061697483, 0.026687631383538246, -0.01948021724820137, 0.009271981194615364, -0.004672640934586525, 0.002239047549664974, 0.03272740915417671, -0.013283303007483482, 0.00739638414233923, 0.01580929569900036, -0.0296883974224329, -0.034278519451618195, -0.03171573579311371, 0.030870916321873665, -0.009493821300566196, -0.031897399574518204, 0.04228493943810463, 0.09692607074975967, -0.01968083158135414, -0.0010851690312847495, -0.0009190720738843083, -0.0510837659239769, -0.024768784642219543, -0.00851467251777649, -0.024760477244853973, 0.057770758867263794, -0.052918851375579834, 0.05120565742254257, 0.004250107333064079, 0.001788690802641213, 0.009239926002919674, -0.008305263705551624, -0.03131890296936035, -0.11263329535722733, 0.00906983483582735, -0.009216389618813992, 0.04188381880521774, -0.0037919061724096537, -0.024653885513544083, 0.017819294705986977, -0.025060979649424553, -0.017845943570137024, -0.030742565169930458, -0.006905257236212492, -0.01932920515537262, -0.016559258103370667, -0.028561068698763847, 0.005674597807228565, 0.029001222923398018, 0.025217747315764427, 0.05689627677202225, 0.006443295627832413, 0.019001755863428116, 0.014646919444203377, -0.012021210975944996, -0.042054250836372375, 0.013411883264780045, 0.004712479189038277, -0.011755071580410004, -0.013620286248624325, 0.048499152064323425, 0.0321645513176918, 0.03123888559639454, 0.013835890218615532, 0.013060168363153934, -0.013752680271863937, 0.006992983631789684, -0.029149191454052925, -0.030507119372487068, -0.04695946350693703, -0.014917831867933273, 0.00025727576576173306, 0.006389882415533066, -0.002926250919699669, -0.05416957661509514, -0.058382607996463776, -0.026750143617391586, 0.03160642832517624, -0.014451703988015652, 0.009605367667973042, 0.08904337882995605, 0.0052823759615421295, 0.010232645086944103, 0.003196555422618985, 0.07183453440666199, 0.03890610113739967, -0.02488255500793457, 0.026110846549272537, 0.05891139432787895, 0.02363942377269268, -0.025706317275762558, 0.044229403138160706, 0.014480902813374996, -0.06150306388735771, -0.007405969314277172, 0.024807559326291084, -0.023342004045844078, 0.014700490050017834, 0.01674727536737919, 0.08207740634679794, 0.008539802394807339, -0.015059146098792553, 0.007528216578066349, -0.03618601709604263, -0.0386369451880455, 0.0035789075773209333, 0.00547634344547987, -0.04995833337306976, 0.043450042605400085, -0.0191225316375494, -0.06593326479196548, 0.04251248389482498, -0.0358428917825222, -0.020964622497558594, -0.024733703583478928, 0.03246067836880684, -0.01316057238727808, -0.019350795075297356, -0.06693031638860703, 0.05820498615503311, 0.021701160818338394, 0.016911175101995468, 0.016751067712903023, 0.01443340815603733, -0.027226146310567856, 0.044571004807949066, 0.001836466370150447, 0.0025929571129381657, 0.021939784288406372, -0.025633858516812325, -0.006263006012886763, -0.022281687706708908, 0.046117860823869705, -0.02352331578731537, -0.02987193875014782, 0.0202250424772501, -0.03175760433077812, -0.02993866242468357, 0.025674475356936455, 0.003818413708359003, -0.05464133247733116, -0.09125728905200958, -0.02077016420662403, 0.004769694525748491, 0.024625513702630997, -0.036676160991191864, 0.008252481929957867, 0.03814388066530228, -0.009444285184144974, 0.04199209064245224, -0.0017194763058796525, -0.038535986095666885, 0.017847010865807533, -0.03440367430448532, -0.0030763226095587015, -0.01980574242770672, -0.07363521307706833, 0.015901438891887665, 0.039225004613399506, 0.013861851766705513, 0.014848330058157444, -0.020638352259993553, 0.09881088137626648, 0.021747399121522903, 0.008953317999839783, 0.029801659286022186, 0.0015485187759622931, -0.05535513535141945, 0.014112458564341068, -0.05552256107330322, 0.047931067645549774, -0.010688375681638718, -0.00439509516581893, -0.04020030423998833, -0.012508762069046497, 0.0065134610049426556, 0.03645024076104164, -0.027900852262973785, -0.08556459844112396, 0.03361274302005768, -0.01802375167608261, -0.04853333905339241, 0.01587059535086155, 0.0033957904670387506, 0.056235574185848236, 0.03524091839790344, 0.017642181366682053, -0.006178641226142645, 0.0035092486068606377, -0.006932589691132307, 0.05040190741419792, -0.013072763569653034, 0.02427039109170437, 0.04642646759748459, 0.031120019033551216, -0.009772118180990219, 0.00472237728536129, -0.07577807456254959, -0.020442303270101547, 0.04419549182057381, -0.02123274840414524, 0.033063340932130814, -0.011293090879917145, 0.04481567069888115, -0.0015640020137652755, -0.0006624465459026396, -0.019622253254055977, 0.03846348822116852, -0.03602593392133713, 0.004196581896394491, -0.00348408380523324, -0.021640315651893616, 0.035669099539518356, 0.024672813713550568, 0.06783796846866608, 0.010215520858764648, -0.034187979996204376, -0.022722790017724037, -0.0733911469578743, -0.052228838205337524, -0.05039208382368088, 0.019166067242622375, -0.018355073407292366, 0.03540688753128052, 0.004362095147371292, 0.004367128945887089, 0.03075731173157692, -0.04028040170669556, -0.042386751621961594, 0.013889453373849392, -0.04328243434429169, 0.034433308988809586, 0.029001565650105476, -0.02315833792090416, 0.05876957252621651, 0.050608474761247635, 0.014065710827708244, -0.03023102879524231, 0.023700539022684097, 0.07395809888839722, -0.0041005793027579784, 0.07178923487663269, -0.019962195307016373, -0.025093475356698036, -0.012118970043957233, -0.0523904487490654, 0.07337344437837601, -0.02689724788069725, 0.031290460377931595, 0.048393987119197845, 0.04072124511003494, -0.0762099102139473, -0.04738936573266983, 0.045384276658296585, -0.0648949071764946, -0.008151311427354813, -0.034636251628398895, 0.018051210790872574, 0.037748850882053375, -0.02889794483780861, -0.07781399041414261, 0.009407387115061283, 0.003487201174721122, 0.010342518799006939, -0.022333728149533272, -0.021217714995145798, -0.06118189916014671, -0.03679243102669716, -0.03236318379640579, 0.02830311842262745, 0.006120285484939814, 0.06318110972642899, -0.006476327311247587, 0.026490118354558945, 0.016440533101558685, 0.009535846300423145, -0.009214092046022415, -0.002597588114440441, 0.04217776283621788, -0.0028961696662008762, 0.022218134254217148, -0.06441102921962738, -0.035846587270498276, 0.032188866287469864, 0.013725904747843742]\n"
     ]
    }
   ],
   "source": [
    "print(vector)"
   ]
  },
  {
   "cell_type": "code",
   "execution_count": 8,
   "metadata": {},
   "outputs": [
    {
     "data": {
      "text/plain": [
       "768"
      ]
     },
     "execution_count": 8,
     "metadata": {},
     "output_type": "execute_result"
    }
   ],
   "source": [
    "len(vector)"
   ]
  },
  {
   "cell_type": "code",
   "execution_count": 22,
   "metadata": {},
   "outputs": [],
   "source": [
    "VECTORSTORE.delete_collection()"
   ]
  },
  {
   "cell_type": "code",
   "execution_count": 23,
   "metadata": {},
   "outputs": [],
   "source": [
    "VECTORSTORE = Chroma(persist_directory=\"chromadb\", embedding_function=embedding, collection_metadata={\"hnsw:space\": \"cosine\"})"
   ]
  },
  {
   "cell_type": "code",
   "execution_count": 24,
   "metadata": {},
   "outputs": [],
   "source": [
    "import json\n",
    "from pprint import pprint\n",
    "\n",
    "with open('../data/rag/data.json', 'r') as f_:\n",
    "    data = json.load(f_)"
   ]
  },
  {
   "cell_type": "code",
   "execution_count": 25,
   "metadata": {},
   "outputs": [
    {
     "data": {
      "text/plain": [
       "[{'title': 'Shin Tae-yong Cinta Sepak Bola Indonesia, Akademi Terus Berjalan',\n",
       "  'content': 'KOMPAS.com - Shin Tae-yong telah diberhentikan dari tugas melatih timnas Indonesia. Kendati demikian, STY tetap ingin memajukan sepak bola Indonesia melalui akademinya\\n\\nLembar perjalanan Shin Tae-yong sebagai pelatih timnas Indonesia resmi berakhir.\\n\\nKetua Umum PSSI, Erick Thohir, menyampaikan langsung keputusan pemberhentian STY dalam sebuah sesi konferensi pers di Menara Danareksa, Jakarta, Senin (6/1/2025)\\n\\nShin Tae-yong pun mesti mengakhiri pengabdian bersama timnas Indonesia lebih cepat, meski sejatinya ia masih terikat kontrak sampai 2027.\\n\\nBaca juga: Shin Tae-yong, Timnas Indonesia, dan Hierarki di Budaya Korea Selatan\\n\\nKepergian STY dari kursi pelatih timnas Indonesia sempat menimbulkan pertanyaan tentang nasib akademi sang pelatih asal Korea Selatan di Tanah Air.\\n\\nSeperti diketahui, pada November 2024 silam, Shin TaeYong Football Academy, mulai beroperasi di Indonesia.\\n\\nView this post on Instagram A post shared by Shin TaeYong Football Academy (@shintaeyong_academy)\\n\\nShin TaeYong Football Academy dipastikan akan terus berjalan meski kursi pelatih timnas Indonesia kini tak lagi diduduki sang pelatih asal Korea Selatan.\\n\\n\"Sebagai tanggapan atas berbagai pertanyaan yang berkembang di tengah masyarakat, kami ingin memberikan penjelasan yang tegas dan transparan,\" demikian bunyi keterangan Shin TaeYong Football Academy melalui Instagram.\\n\\nBaca juga: Marc Klok Ungkap Problem STY di Timnas Indonesia, Hierarki dan Komunikasi\\n\\n\"Dengan rasa cinta yang besar terhadap sepak bola Indonesia, coach Shin Tae-yong tetap berkomitmen untuk mendukung perkembangan olahraga ini melalui visi dan misi yang menjadi landasan berdirinya Shin TaeYong Football Academy.\"\\n\\nKehadiran Shin TaeYong Football Academy di Indonesia membawa visi serta misi untuk memimpin pengembangan sepak bola usia muda dan memperkuat budaya olahraga Indonesia.\\n\\nShin TaeYong Football Academy punya harapan bisa menjadi pintu gerbang bagi para pesepak bola muda yang ingin merasakan latihan level profesional.\\n\\nPelatih berpengalaman, kurikulum sepak bola yang komprehensif, dan fasilitas kelas satu, termasuk lapangan dengan standar FIFA, menjadi sejumlah hal yang ditawarkan akademi milik STY.\\n\\n\"Kami memastikan bahwa Shin TaeYong Football Academy akan terus berjalan dan berjanji untuk mencetak bibit unggul yang memiliki fundamental kuat demi kemajuan sepak bola Indonesia,\" tulis Shin TaeYong Football Academy.',\n",
       "  'url': 'https://bola.kompas.com/read/2025/01/09/18300018/shin-tae-yong-cinta-sepak-bola-indonesia-akademi-terus-berjalan?source=headline'},\n",
       " {'title': 'Dari Shin Tae-yong ke Kluivert, Tantangan Berat Pelatih Anyar Timnas Indonesia',\n",
       "  'content': 'CIAMIS, KOMPAS.com - CEO Persatuan Sepakbola Galuh Ciamis (PSGC), Herdiat Sunarya, masih belum move on dari mantan pelatih timnas Indonesia, Shin Tae-yong (STY).\\n\\nSaat diminta tanggapan tentang PSSI memilih Patrick Kluivert sebagai pelatih baru, Herdiat justru menyayangkan pemecatan pelatih asal Korea Selatan itu.\\n\\n\"Kalau saya lebih condong, sudah militansi ke STY. Hatinya sudah ke STY. Sangat kecewa sebetulnya (adanya pemecatan),\" ujar Herdiat di Ciamis, Kamis (9/1/2025).\\n\\nMengganti seorang pelatih di tengah jalan, terlebih diberi target lolos Piala Dunia, menurut dia, merupakan sesuatu yang tidak mudah.\\n\\nBaca juga: Dari Shin Tae-yong ke Patrick Kluivert, antara Kejutan dan Harapan\\n\\nDia mengatakan, perjalanan akan sangat berat bagi pelatih baru timnas Indonesia, Patrick Kluivert.\\n\\n\"Tentu sangat berat,\" kata Herdiat.\\n\\nMengenai sektor mana saja yang harus dibenahi di timnas Indonesia, Herdiat mengatakan sektor pelatih.\\n\\nUntuk pemain, sudah luar biasa bermain baik.\\n\\n\"Ya sektor pelatihnya. Kalau lihat pemain sudah jauh beda transformasinya, terlihat sekali. Tim terbaik,\" ucapnya.\\n\\nYang harus dilakukan ke depan, menurut dia, tinggal bagaimana pelatih dapat mengelola dari sisi teknik kerja sama.\\n\\n\"Skill pemain sudah luar biasa,\" katanya.\\n\\nBaca juga: Patrick Kluivert Latih Timnas Indonesia, antara Harapan dan Rasa Heran\\n\\nMeskipun kecewa STY dipecat, Herdiat tetap berharap agar jalan yang sudah dipilih PSSI ini merupakan yang terbaik.\\n\\nAdapun sebelumnya, PSSI resmi mengumumkan Patrick Kluivert sebagai pelatih Timnas Indonesia menggantikan Shin Tae-yong pada Rabu (8/1/2025).',\n",
       "  'url': 'https://bandung.kompas.com/read/2025/01/09/201334078/dari-shin-tae-yong-ke-kluivert-tantangan-berat-pelatih-anyar-timnas'}]"
      ]
     },
     "execution_count": 25,
     "metadata": {},
     "output_type": "execute_result"
    }
   ],
   "source": [
    "data[:2]"
   ]
  },
  {
   "cell_type": "code",
   "execution_count": 26,
   "metadata": {},
   "outputs": [],
   "source": [
    "from langchain_core.documents import Document\n",
    "\n",
    "documents = []\n",
    "for d in data:\n",
    "    documents.append(Document(page_content=d['content'], metadata={'title': d['title'], 'url': d['url']}))"
   ]
  },
  {
   "cell_type": "code",
   "execution_count": 27,
   "metadata": {},
   "outputs": [
    {
     "data": {
      "text/plain": [
       "[Document(metadata={'title': 'Shin Tae-yong Cinta Sepak Bola Indonesia, Akademi Terus Berjalan', 'url': 'https://bola.kompas.com/read/2025/01/09/18300018/shin-tae-yong-cinta-sepak-bola-indonesia-akademi-terus-berjalan?source=headline'}, page_content='KOMPAS.com - Shin Tae-yong telah diberhentikan dari tugas melatih timnas Indonesia. Kendati demikian, STY tetap ingin memajukan sepak bola Indonesia melalui akademinya\\n\\nLembar perjalanan Shin Tae-yong sebagai pelatih timnas Indonesia resmi berakhir.\\n\\nKetua Umum PSSI, Erick Thohir, menyampaikan langsung keputusan pemberhentian STY dalam sebuah sesi konferensi pers di Menara Danareksa, Jakarta, Senin (6/1/2025)\\n\\nShin Tae-yong pun mesti mengakhiri pengabdian bersama timnas Indonesia lebih cepat, meski sejatinya ia masih terikat kontrak sampai 2027.\\n\\nBaca juga: Shin Tae-yong, Timnas Indonesia, dan Hierarki di Budaya Korea Selatan\\n\\nKepergian STY dari kursi pelatih timnas Indonesia sempat menimbulkan pertanyaan tentang nasib akademi sang pelatih asal Korea Selatan di Tanah Air.\\n\\nSeperti diketahui, pada November 2024 silam, Shin TaeYong Football Academy, mulai beroperasi di Indonesia.\\n\\nView this post on Instagram A post shared by Shin TaeYong Football Academy (@shintaeyong_academy)\\n\\nShin TaeYong Football Academy dipastikan akan terus berjalan meski kursi pelatih timnas Indonesia kini tak lagi diduduki sang pelatih asal Korea Selatan.\\n\\n\"Sebagai tanggapan atas berbagai pertanyaan yang berkembang di tengah masyarakat, kami ingin memberikan penjelasan yang tegas dan transparan,\" demikian bunyi keterangan Shin TaeYong Football Academy melalui Instagram.\\n\\nBaca juga: Marc Klok Ungkap Problem STY di Timnas Indonesia, Hierarki dan Komunikasi\\n\\n\"Dengan rasa cinta yang besar terhadap sepak bola Indonesia, coach Shin Tae-yong tetap berkomitmen untuk mendukung perkembangan olahraga ini melalui visi dan misi yang menjadi landasan berdirinya Shin TaeYong Football Academy.\"\\n\\nKehadiran Shin TaeYong Football Academy di Indonesia membawa visi serta misi untuk memimpin pengembangan sepak bola usia muda dan memperkuat budaya olahraga Indonesia.\\n\\nShin TaeYong Football Academy punya harapan bisa menjadi pintu gerbang bagi para pesepak bola muda yang ingin merasakan latihan level profesional.\\n\\nPelatih berpengalaman, kurikulum sepak bola yang komprehensif, dan fasilitas kelas satu, termasuk lapangan dengan standar FIFA, menjadi sejumlah hal yang ditawarkan akademi milik STY.\\n\\n\"Kami memastikan bahwa Shin TaeYong Football Academy akan terus berjalan dan berjanji untuk mencetak bibit unggul yang memiliki fundamental kuat demi kemajuan sepak bola Indonesia,\" tulis Shin TaeYong Football Academy.'),\n",
       " Document(metadata={'title': 'Dari Shin Tae-yong ke Kluivert, Tantangan Berat Pelatih Anyar Timnas Indonesia', 'url': 'https://bandung.kompas.com/read/2025/01/09/201334078/dari-shin-tae-yong-ke-kluivert-tantangan-berat-pelatih-anyar-timnas'}, page_content='CIAMIS, KOMPAS.com - CEO Persatuan Sepakbola Galuh Ciamis (PSGC), Herdiat Sunarya, masih belum move on dari mantan pelatih timnas Indonesia, Shin Tae-yong (STY).\\n\\nSaat diminta tanggapan tentang PSSI memilih Patrick Kluivert sebagai pelatih baru, Herdiat justru menyayangkan pemecatan pelatih asal Korea Selatan itu.\\n\\n\"Kalau saya lebih condong, sudah militansi ke STY. Hatinya sudah ke STY. Sangat kecewa sebetulnya (adanya pemecatan),\" ujar Herdiat di Ciamis, Kamis (9/1/2025).\\n\\nMengganti seorang pelatih di tengah jalan, terlebih diberi target lolos Piala Dunia, menurut dia, merupakan sesuatu yang tidak mudah.\\n\\nBaca juga: Dari Shin Tae-yong ke Patrick Kluivert, antara Kejutan dan Harapan\\n\\nDia mengatakan, perjalanan akan sangat berat bagi pelatih baru timnas Indonesia, Patrick Kluivert.\\n\\n\"Tentu sangat berat,\" kata Herdiat.\\n\\nMengenai sektor mana saja yang harus dibenahi di timnas Indonesia, Herdiat mengatakan sektor pelatih.\\n\\nUntuk pemain, sudah luar biasa bermain baik.\\n\\n\"Ya sektor pelatihnya. Kalau lihat pemain sudah jauh beda transformasinya, terlihat sekali. Tim terbaik,\" ucapnya.\\n\\nYang harus dilakukan ke depan, menurut dia, tinggal bagaimana pelatih dapat mengelola dari sisi teknik kerja sama.\\n\\n\"Skill pemain sudah luar biasa,\" katanya.\\n\\nBaca juga: Patrick Kluivert Latih Timnas Indonesia, antara Harapan dan Rasa Heran\\n\\nMeskipun kecewa STY dipecat, Herdiat tetap berharap agar jalan yang sudah dipilih PSSI ini merupakan yang terbaik.\\n\\nAdapun sebelumnya, PSSI resmi mengumumkan Patrick Kluivert sebagai pelatih Timnas Indonesia menggantikan Shin Tae-yong pada Rabu (8/1/2025).')]"
      ]
     },
     "execution_count": 27,
     "metadata": {},
     "output_type": "execute_result"
    }
   ],
   "source": [
    "documents[:2]"
   ]
  },
  {
   "cell_type": "code",
   "execution_count": 28,
   "metadata": {},
   "outputs": [],
   "source": [
    "from langchain.text_splitter import RecursiveCharacterTextSplitter\n",
    "\n",
    "text_splitter = RecursiveCharacterTextSplitter(chunk_size=1000, chunk_overlap=100)\n",
    "document_chunks = text_splitter.split_documents(documents)"
   ]
  },
  {
   "cell_type": "code",
   "execution_count": 29,
   "metadata": {},
   "outputs": [
    {
     "data": {
      "text/plain": [
       "['ff737088-5b47-4165-98ee-c9c5125db78a',\n",
       " 'e6e6e9d0-527e-4e73-80e3-689ce01d0c37',\n",
       " 'f8c5ade3-f26e-43de-9b7f-6df6e2c3ddd0',\n",
       " '40155c4e-9d22-4b4b-bb3b-b81d2e9404f8',\n",
       " 'a31cb6fa-c67e-427c-b2a6-4d801ac7fc0a',\n",
       " 'd497538e-053c-4403-8dc0-12ef195482a8',\n",
       " 'faaf3484-2021-418b-98c0-6a1b4830f51a',\n",
       " 'e5898b3a-6593-4837-8615-db4df8fd7828',\n",
       " '3e3ad819-088b-4c2c-9c67-4e70348848e6',\n",
       " 'f9b6dfad-230b-4958-9222-0e7cd3fd66df',\n",
       " 'e290d768-202b-43ae-909d-8176cbb9a2f9',\n",
       " '87a75e60-9248-469e-9bde-7cea9bc185d4',\n",
       " '9c3d8f8c-921b-4413-9a50-beb75cb6c920',\n",
       " 'ab6b17d5-29fa-49e6-a2b0-5ac1b4174b80',\n",
       " 'a9bc0214-48e1-4c6e-bd15-a00844077eed',\n",
       " '3f9b9dc3-c8c9-4af9-906a-d61525e12231',\n",
       " '9803f755-799e-427e-a1fe-e29d27028682',\n",
       " 'e2664277-1b74-4802-93f0-c4948afbc656',\n",
       " 'e7f3b11c-d94f-4a53-8097-eaed637e72af',\n",
       " '7c1a67c3-d07c-4cea-a34e-6c27fe5290bf',\n",
       " '72dc83df-1d8c-4f65-9cb9-d7d88db1db70',\n",
       " '5ad104e5-ba57-41ba-957f-3691e4ef97f0',\n",
       " 'ca42da38-f47d-4421-b40a-61d9752792bc',\n",
       " '3174b767-9c4f-408e-b759-d32e0c296812',\n",
       " '009ad951-aac7-4008-83d6-a050f52cdd1c',\n",
       " 'ad4229f0-3f37-4b7c-9972-3b56cba59b0d',\n",
       " '784c5019-3b44-41f1-a9b8-ece670f21058',\n",
       " '3767f159-815e-4aec-93be-eb97bf5a3188',\n",
       " '018fe26e-8f03-4444-9a03-519fa3a14fe3',\n",
       " 'e82f0ba2-9e84-4ca1-adb8-f91ecf18c729',\n",
       " 'c8835600-2756-49be-bae0-03a7b19d5427',\n",
       " '775a33d4-9ab0-4cea-ae3e-4b6118229f5b',\n",
       " 'a0b3d375-7fa7-4a0d-9064-58cc3fbd6b5a',\n",
       " '598a9116-a8e3-4a99-93d2-3387cf9b7820',\n",
       " 'd48be996-91a9-4b4c-935f-18513de22b99',\n",
       " 'bd492886-5dc5-4c3e-9c5e-64448cf28547',\n",
       " 'fda3ec8f-26e9-4c11-ab03-8c94e0ba545a',\n",
       " '1cf5c623-71c5-48d4-b9cd-61c1b7248b0b',\n",
       " '69fb92ac-07e9-4907-9932-9bd46e85142a',\n",
       " '1cf5da6d-ea8f-4260-a302-0c00543a495d',\n",
       " '2a255d6a-e4c5-4e89-af60-3ecc3f1376d7',\n",
       " '25be4bae-9308-404d-a4cb-0cec3b26ef5f',\n",
       " '93e241d1-0e1a-4e92-906e-babef388e0cb',\n",
       " '8d8e6236-63a2-45ab-be69-37da20d47351',\n",
       " '8c9beda1-5dfa-4299-81d7-14702069b444',\n",
       " '0bf6f9f6-88fd-4116-b288-3cc04cfbb6ba',\n",
       " '94f44075-f7e0-4be1-94aa-8cccb44909f8',\n",
       " 'b22362df-ffde-4cdd-8588-45e6d3115a54',\n",
       " '29a201bb-f0cc-4343-9371-9541a491c5af',\n",
       " 'ea0cd55d-401b-47db-8d1f-d7e2b3b1f47e',\n",
       " 'ec942a5a-7da3-483e-aef9-8a0902a16353',\n",
       " '0d20fe9e-6cec-42bf-9d6f-b45e7effd055',\n",
       " '9f0232f5-7bcb-4478-984e-91f0fc8edb9d',\n",
       " 'eaa0c147-5bb7-4b4b-95b9-3cf7fb5f1f4d',\n",
       " 'dbf1bb93-c272-4a40-8f71-cd749a7b94e6',\n",
       " '32de4c97-40d6-4bb7-8c91-52d99ce40f9d',\n",
       " 'd13e346a-cd84-4b07-864d-8d2a98a24b3c',\n",
       " 'b614e65e-5d6f-4c31-b8d6-46167ba8238d',\n",
       " '7563539f-0e43-4b91-9c49-589d01e97f80',\n",
       " 'a1503832-d014-4612-8472-3cedc2fb7911',\n",
       " '6cb18741-a5e5-4c1e-97f5-10adebef5d5d',\n",
       " '2b5c14d6-6909-43ad-ade0-d1986d803542',\n",
       " 'ace90869-b3e1-41a4-af90-d5114ae1c3ba',\n",
       " 'a1395e90-da81-429b-8a54-30c735127f9a',\n",
       " 'a3fce19e-faab-4c89-a05f-bad7e88a0aa9',\n",
       " '7da0b69a-1f38-4c92-898c-65d2a47af737']"
      ]
     },
     "execution_count": 29,
     "metadata": {},
     "output_type": "execute_result"
    }
   ],
   "source": [
    "VECTORSTORE.add_documents(documents=document_chunks)"
   ]
  },
  {
   "cell_type": "code",
   "execution_count": 32,
   "metadata": {},
   "outputs": [],
   "source": [
    "retriever = VECTORSTORE.as_retriever(\n",
    "    search_type=\"similarity\",\n",
    "    search_kwargs={\n",
    "        \"k\": 3\n",
    "    }\n",
    ")"
   ]
  },
  {
   "cell_type": "code",
   "execution_count": 33,
   "metadata": {},
   "outputs": [
    {
     "data": {
      "text/plain": [
       "[Document(metadata={'title': 'Program Makan Siang Gratis di Maros, Makan Pakai Wadah Plastik', 'url': 'https://www.kompas.com/sulawesi-selatan/read/2025/01/07/151254688/program-makan-siang-gratis-di-maros-makan-pakai-wadah-plastik'}, page_content='Memasuki hari kedua, proses penyaluran makan siang gratis berjalan lancar.\\n\\nBaca juga: Makan Siang Gratis Dipangkas, Pakar Unair: Bisa Pakai Lele hingga Nila\\n\\nFokus makan siang gratis di Kecamatan Mandai\\n\\nKetua Komite Nasional Pemuda Indonesia (KNPI) Maros ini juga menjelaskan untuk pekan ini penyaluran makan siang gratis akan difokuskan di Kecamatan Mandai.\\n\\n“Untuk sementara menyasar 10 sekolah, untuk wilayah pelosok belum ada juknisnya, sehingga kami masih fokus di Kecamatan Mandai,” jelasnya.\\n\\nSementara, Sekretaris Daerah Maros, Andi Davied Syamsuddin mengatakan pihaknya menggelontorkan dana Rp 2,5 milliar dari APBD untuk mendukung program makan siang gratis.\\n\\nDalam perencanaannya, anggaran tersebut diperuntukkan untuk sekolah SD di Maros.“Walau jumlahnya belum tercukupi, kami masih menunggu teknis lebih lanjut penganggarannya, waktu kami menyusun, SMP belum dimasukkan,” terangnya.'),\n",
       " Document(metadata={'title': 'Distribusi Makan Siang Gratis di Bojonegoro Belum Menyeluruh, Dapur SPPG Hanya Mampu 3.000 Porsi', 'url': 'https://surabaya.kompas.com/read/2025/01/06/212042678/distribusi-makan-siang-gratis-di-bojonegoro-belum-menyeluruh-dapur-sppg'}, page_content='Baca juga: Dapur Umum Makan Siang Gratis Dibangun di Kebumen, Anggaran Rp 1,5 Miliar\\n\\nPara siswa maupun ibu hamil yang mendapatkan bantuan makanan bergizi gratis tersebut tampak antusias menerimanya.\\n\\nIrwan, siswa SD yang menerima bantuan makanan bergizi gratis mengaku, senang mendapatkan makanan dan susu gratis untuk makan siang di sekolah.\\n\\nSaat berangkat sekolah biasanya membawa bekal dari rumah dengan menu makanan seadanya, atau terkadang juga cukup membeli jajanan di sekolah saat tidak membawa bekal.\\n\\n\"Senang, makanannya enak, terus bisa makan bersama teman-teman di sekolah,\" kata Irwan.'),\n",
       " Document(metadata={'title': 'Media Asing Soroti Makan Bergizi Gratis, Singgung Stunting dan Skema Pembiayaan', 'url': 'https://www.kompas.com/tren/read/2025/01/06/150000265/media-asing-soroti-makan-bergizi-gratis-singgung-stunting-dan-skema'}, page_content='KOMPAS.com - Program makan bergizi gratis untuk siswa sekolah dasar dan menengah mulai diterapkan hari ini, Senin (6/1/2025).\\n\\nProgram makan bergizi gratis, atau dulu disebut sebagai makan siang gratis, digagas pemerintahan Presiden Prabowo Subianto guna memenuhi kebutuhan gizi masyarakat, terutama anak-anak.\\n\\nPelaksanaan program makan bergizi gratis di Indonesia untuk pertama kalinya pun tak lepas dari sorotan media asing.\\n\\nKantor berita Agence France-Presse atau AFP misalnya, menyoroti tujuan makan bergizi gratis untuk mengentaskan stunting di Indonesia.\\n\\nTulisan yang sama turut dimuat dalam media yang berbasis di Singapura, The Straits Times dan CNA, serta media Uni Emirat Arab Khaleej Times.\\n\\nBaca juga: Perjalanan Makan Bergizi Gratis: Awal Mula, Berubah Nama, hingga Jadi Diberlakukan mulai 6 Januari 2025\\n\\n\\n\\n\\n\\nSoroti makan bergizi gratis untuk memerangi stunting')]"
      ]
     },
     "execution_count": 33,
     "metadata": {},
     "output_type": "execute_result"
    }
   ],
   "source": [
    "retriever.invoke(\"makan siang gratis\")"
   ]
  },
  {
   "cell_type": "code",
   "execution_count": 85,
   "metadata": {},
   "outputs": [],
   "source": [
    "from langchain_google_genai import ChatGoogleGenerativeAI\n",
    "\n",
    "llm = ChatGoogleGenerativeAI(model=\"gemini-1.5-flash\", api_key=os.environ['GOOGLE_API_KEY'])"
   ]
  },
  {
   "cell_type": "code",
   "execution_count": 86,
   "metadata": {},
   "outputs": [],
   "source": [
    "def search_documents(query):\n",
    "    docs = retriever.invoke(query)\n",
    "\n",
    "    context = \"\"\n",
    "    for doc in docs:\n",
    "        page_content = doc.page_content\n",
    "        metadata = doc.metadata\n",
    "\n",
    "        title = metadata['title']\n",
    "        url = metadata['url']\n",
    "\n",
    "        context += f\"Title: {title}\\n\"\n",
    "        context += f\"URL: {url}\\n\"\n",
    "        context += f\"Content: {page_content}\\n\\n\"\n",
    "\n",
    "    return context\n"
   ]
  },
  {
   "cell_type": "code",
   "execution_count": null,
   "metadata": {},
   "outputs": [],
   "source": [
    "from langchain_core.runnables import RunnablePassthrough\n",
    "from langchain.prompts.prompt import PromptTemplate\n",
    "from langchain_core.output_parsers.string import StrOutputParser\n",
    "from datetime import datetime\n",
    "\n",
    "prompt = \"\"\"\n",
    "Date and time: {datetime}\n",
    "Please answer the user's question using the following context:\n",
    "{context}\n",
    "\n",
    "Rules:\n",
    "1. You should provide the url of the article.\n",
    "2. Answer in Bahasa Indonesia.\n",
    "\n",
    "Question: {question}\n",
    "Answer:\n",
    "\"\"\"\n",
    "\n",
    "prompt_template = PromptTemplate.from_template(prompt)\n",
    "\n",
    "chain = (\n",
    "    RunnablePassthrough.assign(\n",
    "        context=lambda x: search_documents(x[\"question\"]), # Retrieve\n",
    "        datetime=lambda x: datetime.now().strftime(\"%Y-%m-%d %H:%M:%S\"),\n",
    "    )\n",
    "    | prompt_template # Augmentation\n",
    "    | llm # Generation\n",
    "    | StrOutputParser()\n",
    ")"
   ]
  },
  {
   "cell_type": "code",
   "execution_count": 88,
   "metadata": {},
   "outputs": [],
   "source": [
    "answer = chain.invoke({\"question\": \"tanggal berapa hari ini ?\"})"
   ]
  },
  {
   "cell_type": "code",
   "execution_count": 89,
   "metadata": {},
   "outputs": [
    {
     "data": {
      "text/plain": [
       "'Tanggal hari ini adalah 3 Maret 2025.  Tidak ada URL yang relevan untuk menjawab pertanyaan ini, karena informasi tanggal tersebut berasal dari informasi tanggal dan waktu yang diberikan di awal pertanyaan.'"
      ]
     },
     "execution_count": 89,
     "metadata": {},
     "output_type": "execute_result"
    }
   ],
   "source": [
    "answer"
   ]
  },
  {
   "cell_type": "code",
   "execution_count": 76,
   "metadata": {},
   "outputs": [
    {
     "name": "stdout",
     "output_type": "stream",
     "text": [
      "Berdasarkan artikel [https://www.kompas.com/tren/read/2025/01/06/150000265/media-asing-soroti-makan-bergizi-gratis-singgung-stunting-dan-skema](https://www.kompas.com/tren/read/2025/01/06/150000265/media-asing-soroti-makan-bergizi-gratis-singgung-stunting-dan-skema), program makan bergizi gratis (sebelumnya disebut makan siang gratis) dimulai pada tanggal 6 Januari 2025.\n"
     ]
    }
   ],
   "source": [
    "print(answer)"
   ]
  },
  {
   "cell_type": "code",
   "execution_count": 68,
   "metadata": {},
   "outputs": [
    {
     "name": "stdout",
     "output_type": "stream",
     "text": [
      "<bound method BaseMessage.text of AIMessage(content='Berdasarkan artikel yang diberikan, program makan siang gratis (atau makan bergizi gratis) dimulai pada tanggal 6 Januari 2025.', additional_kwargs={}, response_metadata={'prompt_feedback': {'block_reason': 0, 'safety_ratings': []}, 'finish_reason': 'STOP', 'safety_ratings': []}, id='run-f4dadd61-0b22-4db9-90bb-697b08980c60-0', usage_metadata={'input_tokens': 833, 'output_tokens': 29, 'total_tokens': 862, 'input_token_details': {'cache_read': 0}})>\n"
     ]
    }
   ],
   "source": [
    "print(answer.text)"
   ]
  },
  {
   "cell_type": "code",
   "execution_count": null,
   "metadata": {},
   "outputs": [],
   "source": []
  }
 ],
 "metadata": {
  "kernelspec": {
   "display_name": "llm-intro",
   "language": "python",
   "name": "python3"
  },
  "language_info": {
   "codemirror_mode": {
    "name": "ipython",
    "version": 3
   },
   "file_extension": ".py",
   "mimetype": "text/x-python",
   "name": "python",
   "nbconvert_exporter": "python",
   "pygments_lexer": "ipython3",
   "version": "3.12.9"
  }
 },
 "nbformat": 4,
 "nbformat_minor": 2
}
