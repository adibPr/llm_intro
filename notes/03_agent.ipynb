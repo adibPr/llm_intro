{
 "cells": [
  {
   "cell_type": "code",
   "execution_count": 1,
   "id": "5441bbb4-4041-4e13-9075-cc2d49c95fe7",
   "metadata": {},
   "outputs": [
    {
     "name": "stderr",
     "output_type": "stream",
     "text": [
      "/media/D/miniconda/envs/llm_intro/lib/python3.10/site-packages/tqdm/auto.py:21: TqdmWarning: IProgress not found. Please update jupyter and ipywidgets. See https://ipywidgets.readthedocs.io/en/stable/user_install.html\n",
      "  from .autonotebook import tqdm as notebook_tqdm\n"
     ]
    }
   ],
   "source": [
    "import os\n",
    "import sys\n",
    "from typing import Optional, Any\n",
    "\n",
    "from dotenv import load_dotenv, find_dotenv\n",
    "import numpy as np\n",
    "\n",
    "from langchain_google_genai import ChatGoogleGenerativeAI\n",
    "from langchain_core.messages import HumanMessage, SystemMessage\n",
    "from langchain_core.prompts import ChatPromptTemplate"
   ]
  },
  {
   "cell_type": "code",
   "execution_count": 2,
   "id": "06787021-2c43-43d0-8c3c-ed0612e29494",
   "metadata": {},
   "outputs": [],
   "source": [
    "# make sure GOOGLE_API_KEY (or any other llm provider, must exactly the same)\n",
    "_ = load_dotenv(find_dotenv())\n",
    "# or put it into variable and pass it to llm model \n",
    "# google_api_key = os.getenv('GOOGLE_API_KEY') # pass this to the model creation"
   ]
  },
  {
   "cell_type": "markdown",
   "id": "6bc08502-7b31-489b-b185-da27916771ba",
   "metadata": {},
   "source": [
    "# Agent Concept"
   ]
  },
  {
   "cell_type": "code",
   "execution_count": 55,
   "id": "d9852c4b-5670-4e5f-8535-ad7c99a13ebe",
   "metadata": {},
   "outputs": [],
   "source": [
    "\"\"\"\n",
    "agent that we use as example:\n",
    "    1. get weather\n",
    "    2. check time (could be in different timezone)\n",
    "    3. check latest 10 posts of reddit/hacker news\n",
    "\"\"\"\n",
    "from datetime import datetime\n",
    "import zoneinfo as zi\n",
    "import requests\n",
    "from langchain_core.tools import BaseTool\n",
    "from langchain_core.tools import Tool, tool, StructuredTool\n",
    "from pydantic import BaseModel, Field\n",
    "from typing import Type, Optional\n",
    "\n",
    "\n",
    "# define input with pydantic\n",
    "class TimeZone(BaseModel):\n",
    "    timezone: str =  Field(description=\"The timezone\")\n",
    "\n",
    "class Location(BaseModel):\n",
    "    location: str = Field(description='Location to find weather')\n",
    "    \n",
    "\n",
    "@tool\n",
    "def get_time(timezone: Optional[str] = 'Asia/Jakarta') -> str:\n",
    "    \"\"\"Get time in a specific timezone. Use Asia/Jakarta if not provided\"\"\"\n",
    "    utc_now = datetime.utcnow()\n",
    "    return \"Current date: \" + utc_now.astimezone(zi.ZoneInfo(timezone)).strftime('%Y-%m-%d %H:%M:%S')\n",
    "@tool\n",
    "def get_weather(location: Optional[str]='Jakarta') -> str:\n",
    "    \"\"\"Get the weather via API in a location (provided, Jakarta as default).\n",
    "    A tool designed to gather accurate information on weather around the globe. \n",
    "    Useful for when you need to answer questions about the weather. \n",
    "    Input should be the location.\n",
    "    \"\"\"\n",
    "    WEATHERAPI_API_KEY='8a6c94f591c4401c9e8152836251301'\n",
    "    res = requests.get(f'https://api.weatherapi.com/v1/current.json?key=8a6c94f591c4401c9e8152836251301&q={location}&aqi=no')\n",
    "    return \"For {} temperature: {:.2F} and weather: {}\".format(\n",
    "        location,\n",
    "        res.json()['current']['temp_c'],\n",
    "        res.json()['current']['condition']['text']\n",
    "        )\n",
    "@tool\n",
    "def get_weather_average(temperature: list[float]) -> float:\n",
    "    \"\"\" Calculate the weather (temperature) average from `get_weather` function. Input is list of temperature. It could be called to get average weather of two cities or more.\"\"\"\n",
    "    return sum(temperature)/ len(temperature) if temperature else 0"
   ]
  },
  {
   "cell_type": "code",
   "execution_count": 4,
   "id": "ebb08c0f-b113-4c8c-91e6-73b7aad3156c",
   "metadata": {},
   "outputs": [],
   "source": [
    "llm = ChatGoogleGenerativeAI(model=\"gemini-1.5-flash\")\n",
    "llm_w_tools = llm.bind_tools([weather_tool, weather_difference_tool])"
   ]
  },
  {
   "cell_type": "code",
   "execution_count": 6,
   "id": "6afef075-2d55-42aa-8ba6-3b65899b4a3a",
   "metadata": {},
   "outputs": [
    {
     "data": {
      "text/plain": [
       "'For Jakarta temperature: 28.20 and weather: Partly cloudy'"
      ]
     },
     "execution_count": 6,
     "metadata": {},
     "output_type": "execute_result"
    }
   ],
   "source": [
    "weather_tool.run('Jakarta')"
   ]
  },
  {
   "cell_type": "code",
   "execution_count": 57,
   "id": "b109a150-c306-4717-9f83-220cef1f7870",
   "metadata": {},
   "outputs": [
    {
     "data": {
      "text/plain": [
       "\"The temperature in Seoul is -5.7 degrees Celsius and the weather is clear.  In Tokyo, it's 4.6 degrees Celsius and clear. Jakarta is 28 degrees Celsius with partly cloudy skies, and Kuala Lumpur is 25.2 degrees Celsius with light rain.\\n\\nThe average temperature across all four cities is 13.02 degrees Celsius.\\n\""
      ]
     },
     "execution_count": 57,
     "metadata": {},
     "output_type": "execute_result"
    }
   ],
   "source": [
    "from langgraph.prebuilt import create_react_agent\n",
    "\n",
    "# query = \"How's the weather in Jakarta and Bandung? and what's the average?\"\n",
    "query = \"What's the temperature Seoul, Tokyo, Jakarta and Kuala Lumpur right now? and what's the average of all cities?\"\n",
    "agent_executor = create_react_agent(model=llm, tools=[get_weather, get_weather_average])\n",
    "message = agent_executor.invoke({\n",
    "    'messages': [\n",
    "        ('human', query)\n",
    "    ]\n",
    "})\n",
    "message['messages'][-1].content"
   ]
  },
  {
   "cell_type": "markdown",
   "id": "b360b99f-eec1-4979-81fd-5958de141d57",
   "metadata": {},
   "source": [
    "## Saving Checkpoint"
   ]
  },
  {
   "cell_type": "code",
   "execution_count": 63,
   "id": "9d10b169-6680-4504-b66e-d59d7c43ac9c",
   "metadata": {},
   "outputs": [],
   "source": [
    "from langgraph.checkpoint.memory import MemorySaver\n",
    "memory = MemorySaver()\n",
    "\n",
    "agent_executor = create_react_agent(model=llm, tools=[get_weather, get_weather_average], checkpointer=memory)\n",
    "\n",
    "# create configuration for Thread Id\n",
    "config = {\"configurable\": {\"thread_id\": \"test-thread\"}}\n",
    "message = agent_executor.invoke({\n",
    "    'messages': [\n",
    "        ('human', query)\n",
    "    ]},\n",
    "    config\n",
    ")"
   ]
  },
  {
   "cell_type": "code",
   "execution_count": 66,
   "id": "808ee2a0-09b0-43ea-8dc8-230b3f468dc9",
   "metadata": {},
   "outputs": [
    {
     "data": {
      "text/plain": [
       "AIMessage(content='The temperature in Seoul is -5.7°C and the weather is clear.  In Tokyo it is 5.1°C and clear. Jakarta is 28°C with partly cloudy skies, and Kuala Lumpur is 25.2°C with light rain.\\n\\nThe average temperature across all four cities is 13.15°C.\\n', additional_kwargs={}, response_metadata={'prompt_feedback': {'block_reason': 0, 'safety_ratings': []}, 'finish_reason': 'STOP', 'safety_ratings': []}, id='run-4c43c404-3eb3-4067-94ab-992a1479b9f6-0', usage_metadata={'input_tokens': 438, 'output_tokens': 77, 'total_tokens': 515, 'input_token_details': {'cache_read': 0}})"
      ]
     },
     "execution_count": 66,
     "metadata": {},
     "output_type": "execute_result"
    }
   ],
   "source": [
    "message['messages'][-1]"
   ]
  },
  {
   "cell_type": "code",
   "execution_count": 67,
   "id": "aa829bbc-a233-4346-a41b-87e0dbf48eff",
   "metadata": {},
   "outputs": [],
   "source": [
    "m = agent_executor.invoke({\n",
    "    'messages': [\n",
    "        ('human', 'What is the city that I ask previously?')\n",
    "    ]},\n",
    "    config\n",
    ")"
   ]
  },
  {
   "cell_type": "code",
   "execution_count": 69,
   "id": "d697209c-5609-4c5e-97c7-da39c233f19e",
   "metadata": {},
   "outputs": [
    {
     "data": {
      "text/plain": [
       "AIMessage(content='The cities you asked about previously were Seoul, Tokyo, Jakarta, and Kuala Lumpur.\\n', additional_kwargs={}, response_metadata={'prompt_feedback': {'block_reason': 0, 'safety_ratings': []}, 'finish_reason': 'STOP', 'safety_ratings': []}, id='run-182cdece-2671-4c3e-a902-50d8436db378-0', usage_metadata={'input_tokens': 526, 'output_tokens': 18, 'total_tokens': 544, 'input_token_details': {'cache_read': 0}})"
      ]
     },
     "execution_count": 69,
     "metadata": {},
     "output_type": "execute_result"
    }
   ],
   "source": [
    "m['messages'][-1]"
   ]
  }
 ],
 "metadata": {
  "kernelspec": {
   "display_name": "Python 3 (ipykernel)",
   "language": "python",
   "name": "python3"
  },
  "language_info": {
   "codemirror_mode": {
    "name": "ipython",
    "version": 3
   },
   "file_extension": ".py",
   "mimetype": "text/x-python",
   "name": "python",
   "nbconvert_exporter": "python",
   "pygments_lexer": "ipython3",
   "version": "3.10.16"
  }
 },
 "nbformat": 4,
 "nbformat_minor": 5
}
