{
 "cells": [
  {
   "cell_type": "code",
   "execution_count": null,
   "id": "5441bbb4-4041-4e13-9075-cc2d49c95fe7",
   "metadata": {},
   "outputs": [
    {
     "name": "stderr",
     "output_type": "stream",
     "text": [
      "/Users/aditya/anaconda3/envs/mini/lib/python3.11/site-packages/tqdm/auto.py:21: TqdmWarning: IProgress not found. Please update jupyter and ipywidgets. See https://ipywidgets.readthedocs.io/en/stable/user_install.html\n",
      "  from .autonotebook import tqdm as notebook_tqdm\n"
     ]
    }
   ],
   "source": [
    "import os\n",
    "import sys\n",
    "from typing import Optional, Any\n",
    "\n",
    "from dotenv import load_dotenv, find_dotenv\n",
    "import numpy as np\n",
    "\n",
    "from langchain_google_genai import ChatGoogleGenerativeAI\n",
    "from langchain_groq import ChatGroq\n",
    "from langchain_core.messages import HumanMessage, SystemMessage, AIMessage\n",
    "from langchain_core.prompts import ChatPromptTemplate"
   ]
  },
  {
   "cell_type": "code",
   "execution_count": 2,
   "id": "06787021-2c43-43d0-8c3c-ed0612e29494",
   "metadata": {},
   "outputs": [],
   "source": [
    "# make sure GOOGLE_API_KEY (or any other llm provider, must exactly the same)\n",
    "_ = load_dotenv(find_dotenv())\n",
    "# or put it into variable and pass it to llm model \n",
    "# google_api_key = os.getenv('GOOGLE_API_KEY') # pass this to the model creation"
   ]
  },
  {
   "cell_type": "markdown",
   "id": "6bc08502-7b31-489b-b185-da27916771ba",
   "metadata": {},
   "source": [
    "# Agent Concept"
   ]
  },
  {
   "cell_type": "markdown",
   "id": "ba1147b6-816b-4158-bc43-1bae92684707",
   "metadata": {},
   "source": [
    "![](../media/agent_tools.png)"
   ]
  },
  {
   "cell_type": "markdown",
   "id": "d849e840-2639-416d-b645-5182176c59e8",
   "metadata": {},
   "source": [
    "What is an AI Agent? \n",
    "An AI agent is a program that uses a language model to understand a task and decide the best way to complete it using available tools autonomously.\n",
    "A key idea in AI agents is the set of **Tools** (functions) they can use to get the job done. \n",
    "For each request, the AI plans the best approach, deciding what steps and tools are needed and in what order to complete the task.\n",
    "\n",
    "For this example, we will create an Agent that could get the weather from external API, either by specify the location/city or by trying to use current location."
   ]
  },
  {
   "cell_type": "code",
   "execution_count": 28,
   "id": "d9852c4b-5670-4e5f-8535-ad7c99a13ebe",
   "metadata": {},
   "outputs": [],
   "source": [
    "\"\"\"\n",
    "agent that we use as example:\n",
    "    1. get weather\n",
    "    2. get location (dummy, returning random between Jakarta, Seoul, Tokyo)\n",
    "\"\"\"\n",
    "from datetime import datetime\n",
    "import zoneinfo as zi\n",
    "import requests\n",
    "from langchain_core.tools import BaseTool\n",
    "from langchain_core.tools import Tool, tool, StructuredTool\n",
    "from pydantic import BaseModel, Field\n",
    "from typing import Type, Optional\n",
    "import random\n",
    "\n",
    "class Location(BaseModel):\n",
    "    location: str = Field(description='Location to find weather')\n",
    "    \n",
    "@tool\n",
    "def get_weather(location: Optional[str]='Jakarta') -> str:\n",
    "    \"\"\"Get the weather via API in a location (provided, Jakarta as default).\n",
    "    A tool designed to gather accurate information on weather around the globe. \n",
    "    Useful for when you need to answer questions about the weather. \n",
    "    Input should be the location.\n",
    "    \"\"\"\n",
    "    WEATHERAPI_API_KEY='8a6c94f591c4401c9e8152836251301'\n",
    "    res = requests.get(f'https://api.weatherapi.com/v1/current.json?key={WEATHERAPI_API_KEY}&q={location}&aqi=no')\n",
    "    return \"For {} temperature: {:.2F} and weather: {}\".format(\n",
    "        location,\n",
    "        res.json()['current']['temp_c'],\n",
    "        res.json()['current']['condition']['text']\n",
    "        )\n",
    "@tool\n",
    "def get_current_location() -> str:\n",
    "    \"\"\"\n",
    "    Get the current location of a user (approxmate).\n",
    "    Input: None\n",
    "    Output: City name \n",
    "    \"\"\"\n",
    "\n",
    "    random_city = ['Jakarta', 'Seoul', 'Tokyo', 'Singapore', 'Kuala Lumpur']\n",
    "    return random.choice(random_city)"
   ]
  },
  {
   "cell_type": "markdown",
   "id": "72b769d2-1630-46b1-92bd-8590ac98db41",
   "metadata": {},
   "source": [
    "The function is a tool already (after using decorator). In order to test the tool, call `.run()` method."
   ]
  },
  {
   "cell_type": "code",
   "execution_count": 29,
   "id": "6afef075-2d55-42aa-8ba6-3b65899b4a3a",
   "metadata": {},
   "outputs": [
    {
     "data": {
      "text/plain": [
       "'For Jakarta temperature: 31.00 and weather: Partly cloudy'"
      ]
     },
     "execution_count": 29,
     "metadata": {},
     "output_type": "execute_result"
    }
   ],
   "source": [
    "get_weather.run('Jakarta')"
   ]
  },
  {
   "cell_type": "code",
   "execution_count": 30,
   "id": "8a62892a-6ed3-4a14-b065-8a5c86a9ebd1",
   "metadata": {},
   "outputs": [
    {
     "data": {
      "text/plain": [
       "'Jakarta'"
      ]
     },
     "execution_count": 30,
     "metadata": {},
     "output_type": "execute_result"
    }
   ],
   "source": [
    "get_current_location.run({})"
   ]
  },
  {
   "cell_type": "markdown",
   "id": "803366c8-18a6-4cf5-95de-f5435840ac48",
   "metadata": {},
   "source": [
    "Use langgraph function to create a react agent (stands for Reasoning and Action agent). On a high level, given a query, the model will [be](https://www.leewayhertz.com/react-agents-vs-function-calling-agents/):\n",
    "1. Break down the task into smaller step, choosing the required tools\n",
    "2. Exceute the step based on the tools\n",
    "3. Observe the result (should it use another tools or return the answer)\n",
    "4. Give response\n"
   ]
  },
  {
   "cell_type": "code",
   "execution_count": 20,
   "id": "57d6a2ac-aa3a-4117-b423-96a4df368c80",
   "metadata": {},
   "outputs": [
    {
     "data": {
      "text/plain": [
       "'Suhu di Tokyo adalah 14.10 derajat dan cuaca sedang berawan. \\n'"
      ]
     },
     "execution_count": 20,
     "metadata": {},
     "output_type": "execute_result"
    }
   ],
   "source": [
    "from langgraph.prebuilt import create_react_agent\n",
    "\n",
    "# llm = ChatGoogleGenerativeAI(model=\"gemini-1.5-flash\")\n",
    "llm = ChatGroq(model=\"gemma2-9b-it\", api_key=os.getenv('GROQ_API_KEY'))\n",
    "# query = \"How's the weather in Jakarta?\"\n",
    "# query = \"What's my current location, and what's the temperature?\"\n",
    "system_prompt = \"You are a helpful assistant that provides information about the weather. Please answer in Bahasa.\"\n",
    "query = \"What's the temperature on my current location?\" # the agent is smart enough to call the get_location tools first, before pass it to the get_weather tools\n",
    "agent_executor = create_react_agent(model=llm, tools=[get_weather, get_current_location], state_modifier=system_prompt)\n",
    "message = agent_executor.invoke({\n",
    "    'messages': [\n",
    "        ('human', query)\n",
    "    ]\n",
    "})\n",
    "message['messages'][-1].content"
   ]
  },
  {
   "cell_type": "markdown",
   "id": "b360b99f-eec1-4979-81fd-5958de141d57",
   "metadata": {},
   "source": [
    "## Saving Checkpoint"
   ]
  },
  {
   "cell_type": "markdown",
   "id": "e8065f9c-0ead-4125-959a-4ed2dde68c98",
   "metadata": {},
   "source": [
    "Langgraph provides a way to save a chat session by having thread_id. "
   ]
  },
  {
   "cell_type": "code",
   "execution_count": 21,
   "id": "9d10b169-6680-4504-b66e-d59d7c43ac9c",
   "metadata": {},
   "outputs": [],
   "source": [
    "from langgraph.checkpoint.memory import MemorySaver\n",
    "memory = MemorySaver()\n",
    "\n",
    "agent_executor = create_react_agent(model=llm, tools=[get_weather, get_current_location], state_modifier=system_prompt, checkpointer=memory)\n",
    "\n",
    "# create configuration for Thread Id\n",
    "config = {\"configurable\": {\"thread_id\": \"test-thread\"}}\n",
    "message = agent_executor.invoke({\n",
    "    'messages': [\n",
    "        ('human', query)\n",
    "    ]},\n",
    "    config\n",
    ")"
   ]
  },
  {
   "cell_type": "code",
   "execution_count": 22,
   "id": "808ee2a0-09b0-43ea-8dc8-230b3f468dc9",
   "metadata": {},
   "outputs": [
    {
     "data": {
      "text/plain": [
       "AIMessage(content='Untuk Tokyo, suhu saat ini adalah 14.10 derajat dan cuaca sedang sebagian berawan.  \\n', additional_kwargs={}, response_metadata={'token_usage': {'completion_tokens': 25, 'prompt_tokens': 1283, 'total_tokens': 1308, 'completion_time': 0.045454545, 'prompt_time': 0.095660873, 'queue_time': 0.021494276000000007, 'total_time': 0.141115418}, 'model_name': 'gemma2-9b-it', 'system_fingerprint': 'fp_10c08bf97d', 'finish_reason': 'stop', 'logprobs': None}, id='run-44fb73e0-553e-4562-80ae-99a50426f2ef-0', usage_metadata={'input_tokens': 1283, 'output_tokens': 25, 'total_tokens': 1308})"
      ]
     },
     "execution_count": 22,
     "metadata": {},
     "output_type": "execute_result"
    }
   ],
   "source": [
    "message['messages'][-1]"
   ]
  },
  {
   "cell_type": "code",
   "execution_count": 23,
   "id": "aa829bbc-a233-4346-a41b-87e0dbf48eff",
   "metadata": {},
   "outputs": [],
   "source": [
    "m = agent_executor.invoke({\n",
    "    'messages': [\n",
    "        ('human', 'What is the city that I ask previously?')\n",
    "    ]},\n",
    "    config\n",
    ")"
   ]
  },
  {
   "cell_type": "code",
   "execution_count": 24,
   "id": "d697209c-5609-4c5e-97c7-da39c233f19e",
   "metadata": {},
   "outputs": [
    {
     "data": {
      "text/plain": [
       "AIMessage(content='Tokyo \\n', additional_kwargs={}, response_metadata={'token_usage': {'completion_tokens': 5, 'prompt_tokens': 1325, 'total_tokens': 1330, 'completion_time': 0.009090909, 'prompt_time': 0.056883411, 'queue_time': 0.019269293, 'total_time': 0.06597432}, 'model_name': 'gemma2-9b-it', 'system_fingerprint': 'fp_10c08bf97d', 'finish_reason': 'stop', 'logprobs': None}, id='run-1d02ef23-112f-4003-8229-d87fcd620fb3-0', usage_metadata={'input_tokens': 1325, 'output_tokens': 5, 'total_tokens': 1330})"
      ]
     },
     "execution_count": 24,
     "metadata": {},
     "output_type": "execute_result"
    }
   ],
   "source": [
    "m['messages'][-1]"
   ]
  },
  {
   "cell_type": "markdown",
   "id": "f232c1c4",
   "metadata": {},
   "source": [
    "## Display Graph"
   ]
  },
  {
   "cell_type": "code",
   "execution_count": 11,
   "id": "d73fae6e",
   "metadata": {},
   "outputs": [
    {
     "data": {
      "image/png": "[encoded data removed]",
      "text/plain": [
       "<IPython.core.display.Image object>"
      ]
     },
     "metadata": {},
     "output_type": "display_data"
    }
   ],
   "source": [
    "from IPython.display import Image, display\n",
    "\n",
    "try:\n",
    "    display(Image(agent_executor.get_graph(xray=True).draw_mermaid_png()))\n",
    "except Exception:\n",
    "    # This requires some extra dependencies and is optional\n",
    "    pass"
   ]
  },
  {
   "cell_type": "markdown",
   "id": "58b60692",
   "metadata": {},
   "source": [
    "# From Scratch"
   ]
  },
  {
   "cell_type": "code",
   "execution_count": 38,
   "id": "06e1f338",
   "metadata": {},
   "outputs": [
    {
     "data": {
      "text/plain": [
       "<langgraph.graph.state.StateGraph at 0x12db798d0>"
      ]
     },
     "execution_count": 38,
     "metadata": {},
     "output_type": "execute_result"
    }
   ],
   "source": [
    "from typing import Annotated\n",
    "\n",
    "from langchain_openai import ChatOpenAI\n",
    "from typing_extensions import TypedDict\n",
    "\n",
    "from langgraph.graph import StateGraph, START, END\n",
    "from langgraph.graph.message import add_messages\n",
    "from langgraph.checkpoint.memory import MemorySaver\n",
    "\n",
    "memory = MemorySaver()\n",
    "\n",
    "# Define the state\n",
    "class State(TypedDict):\n",
    "    messages: Annotated[list, add_messages]\n",
    "\n",
    "graph_builder = StateGraph(State)\n",
    "\n",
    "# Modification: tell the LLM which tools it can call\n",
    "tools = [get_weather, get_current_location]\n",
    "llm_with_tools = llm.bind_tools(tools)\n",
    "\n",
    "def chatbot(state: State):\n",
    "    messages = state[\"messages\"]\n",
    "    system_prompt_message = SystemMessage(content=system_prompt)\n",
    "    inputs = [system_prompt_message] + messages\n",
    "    return {\"messages\": [llm_with_tools.invoke(inputs)]}\n",
    "    # return {\"messages\": [llm_with_tools.invoke(messages)]}\n",
    "\n",
    "graph_builder.add_node(\"chatbot\", chatbot)"
   ]
  },
  {
   "cell_type": "code",
   "execution_count": 39,
   "id": "1208003c",
   "metadata": {},
   "outputs": [],
   "source": [
    "from langgraph.prebuilt import ToolNode, tools_condition\n",
    "tool_node = ToolNode(tools=tools)\n",
    "graph_builder.add_node(\"tools\", tool_node)\n",
    "\n",
    "graph_builder.add_conditional_edges(\n",
    "    \"chatbot\",\n",
    "    tools_condition,\n",
    ")\n",
    "\n",
    "graph_builder.add_edge(START, \"chatbot\")\n",
    "graph_builder.add_edge(\"tools\", \"chatbot\")\n",
    "graph_builder.set_entry_point(\"chatbot\")\n",
    "graph = graph_builder.compile(checkpointer=memory)\n"
   ]
  },
  {
   "cell_type": "code",
   "execution_count": 40,
   "id": "c8028019",
   "metadata": {},
   "outputs": [
    {
     "data": {
      "image/png": "[encoded data removed]",
      "text/plain": [
       "<IPython.core.display.Image object>"
      ]
     },
     "metadata": {},
     "output_type": "display_data"
    }
   ],
   "source": [
    "from IPython.display import Image, display\n",
    "\n",
    "try:\n",
    "    display(Image(graph.get_graph(xray=True).draw_mermaid_png()))\n",
    "except Exception:\n",
    "    # This requires some extra dependencies and is optional\n",
    "    pass"
   ]
  },
  {
   "cell_type": "code",
   "execution_count": 41,
   "id": "78ab9f1d",
   "metadata": {},
   "outputs": [],
   "source": [
    "answer = graph.invoke(\n",
    "    {\n",
    "        \"messages\": [(\"human\", \"What's the temperature on my current location?\")]\n",
    "    }, \n",
    "    {\"configurable\": {\"thread_id\": 42}}\n",
    ")"
   ]
  },
  {
   "cell_type": "code",
   "execution_count": 42,
   "id": "16c48f34",
   "metadata": {},
   "outputs": [
    {
     "data": {
      "text/plain": [
       "{'messages': [HumanMessage(content=\"What's the temperature on my current location?\", additional_kwargs={}, response_metadata={}, id='99c03dde-c14e-4d84-803e-4b18fee7cebe'),\n",
       "  AIMessage(content='', additional_kwargs={'tool_calls': [{'id': 'call_3v1t', 'function': {'arguments': '{}', 'name': 'get_current_location'}, 'type': 'function'}]}, response_metadata={'token_usage': {'completion_tokens': 73, 'prompt_tokens': 1126, 'total_tokens': 1199, 'completion_time': 0.132727273, 'prompt_time': 0.039282914, 'queue_time': 0.020739282999999997, 'total_time': 0.172010187}, 'model_name': 'gemma2-9b-it', 'system_fingerprint': 'fp_10c08bf97d', 'finish_reason': 'tool_calls', 'logprobs': None}, id='run-d22bdd86-4959-4241-8b75-796177584419-0', tool_calls=[{'name': 'get_current_location', 'args': {}, 'id': 'call_3v1t', 'type': 'tool_call'}], usage_metadata={'input_tokens': 1126, 'output_tokens': 73, 'total_tokens': 1199}),\n",
       "  ToolMessage(content='Singapore', name='get_current_location', id='23c75c09-42af-4067-a664-b4691227e0e8', tool_call_id='call_3v1t'),\n",
       "  AIMessage(content='', additional_kwargs={'tool_calls': [{'id': 'call_e83r', 'function': {'arguments': '{\"location\":\"Singapore\"}', 'name': 'get_weather'}, 'type': 'function'}]}, response_metadata={'token_usage': {'completion_tokens': 47, 'prompt_tokens': 1198, 'total_tokens': 1245, 'completion_time': 0.085454545, 'prompt_time': 0.063146087, 'queue_time': 0.020802898, 'total_time': 0.148600632}, 'model_name': 'gemma2-9b-it', 'system_fingerprint': 'fp_10c08bf97d', 'finish_reason': 'tool_calls', 'logprobs': None}, id='run-52cbfa18-ae16-4e1c-9935-8d370965492c-0', tool_calls=[{'name': 'get_weather', 'args': {'location': 'Singapore'}, 'id': 'call_e83r', 'type': 'tool_call'}], usage_metadata={'input_tokens': 1198, 'output_tokens': 47, 'total_tokens': 1245}),\n",
       "  ToolMessage(content='For Singapore temperature: 30.10 and weather: Partly cloudy', name='get_weather', id='6f4b4e59-abd3-469b-a493-1d9653d888ac', tool_call_id='call_e83r'),\n",
       "  AIMessage(content='Suhu di lokasi kamu saat ini adalah 30.10 derajat Celcius dengan kondisi sebagian awan.  \\n', additional_kwargs={}, response_metadata={'token_usage': {'completion_tokens': 27, 'prompt_tokens': 1285, 'total_tokens': 1312, 'completion_time': 0.049090909, 'prompt_time': 0.055057722, 'queue_time': 0.016148871999999995, 'total_time': 0.104148631}, 'model_name': 'gemma2-9b-it', 'system_fingerprint': 'fp_10c08bf97d', 'finish_reason': 'stop', 'logprobs': None}, id='run-d469d7c8-6d1c-4ed0-a041-2586aa9cab5d-0', usage_metadata={'input_tokens': 1285, 'output_tokens': 27, 'total_tokens': 1312})]}"
      ]
     },
     "execution_count": 42,
     "metadata": {},
     "output_type": "execute_result"
    }
   ],
   "source": [
    "answer"
   ]
  },
  {
   "cell_type": "code",
   "execution_count": 43,
   "id": "06f645e2",
   "metadata": {},
   "outputs": [
    {
     "data": {
      "text/plain": [
       "'Suhu di lokasi kamu saat ini adalah 30.10 derajat Celcius dengan kondisi sebagian awan.  \\n'"
      ]
     },
     "execution_count": 43,
     "metadata": {},
     "output_type": "execute_result"
    }
   ],
   "source": [
    "answer[\"messages\"][-1].content"
   ]
  },
  {
   "cell_type": "code",
   "execution_count": 44,
   "id": "34c83841",
   "metadata": {},
   "outputs": [],
   "source": [
    "answer = graph.invoke(\n",
    "    {\n",
    "        \"messages\": [(\"human\", \"What is previous location?\")]\n",
    "    }, \n",
    "    {\"configurable\": {\"thread_id\": 42}}\n",
    ")"
   ]
  },
  {
   "cell_type": "code",
   "execution_count": 45,
   "id": "89d825c9",
   "metadata": {},
   "outputs": [
    {
     "data": {
      "text/plain": [
       "{'messages': [HumanMessage(content=\"What's the temperature on my current location?\", additional_kwargs={}, response_metadata={}, id='99c03dde-c14e-4d84-803e-4b18fee7cebe'),\n",
       "  AIMessage(content='', additional_kwargs={'tool_calls': [{'id': 'call_3v1t', 'function': {'arguments': '{}', 'name': 'get_current_location'}, 'type': 'function'}]}, response_metadata={'token_usage': {'completion_tokens': 73, 'prompt_tokens': 1126, 'total_tokens': 1199, 'completion_time': 0.132727273, 'prompt_time': 0.039282914, 'queue_time': 0.020739282999999997, 'total_time': 0.172010187}, 'model_name': 'gemma2-9b-it', 'system_fingerprint': 'fp_10c08bf97d', 'finish_reason': 'tool_calls', 'logprobs': None}, id='run-d22bdd86-4959-4241-8b75-796177584419-0', tool_calls=[{'name': 'get_current_location', 'args': {}, 'id': 'call_3v1t', 'type': 'tool_call'}], usage_metadata={'input_tokens': 1126, 'output_tokens': 73, 'total_tokens': 1199}),\n",
       "  ToolMessage(content='Singapore', name='get_current_location', id='23c75c09-42af-4067-a664-b4691227e0e8', tool_call_id='call_3v1t'),\n",
       "  AIMessage(content='', additional_kwargs={'tool_calls': [{'id': 'call_e83r', 'function': {'arguments': '{\"location\":\"Singapore\"}', 'name': 'get_weather'}, 'type': 'function'}]}, response_metadata={'token_usage': {'completion_tokens': 47, 'prompt_tokens': 1198, 'total_tokens': 1245, 'completion_time': 0.085454545, 'prompt_time': 0.063146087, 'queue_time': 0.020802898, 'total_time': 0.148600632}, 'model_name': 'gemma2-9b-it', 'system_fingerprint': 'fp_10c08bf97d', 'finish_reason': 'tool_calls', 'logprobs': None}, id='run-52cbfa18-ae16-4e1c-9935-8d370965492c-0', tool_calls=[{'name': 'get_weather', 'args': {'location': 'Singapore'}, 'id': 'call_e83r', 'type': 'tool_call'}], usage_metadata={'input_tokens': 1198, 'output_tokens': 47, 'total_tokens': 1245}),\n",
       "  ToolMessage(content='For Singapore temperature: 30.10 and weather: Partly cloudy', name='get_weather', id='6f4b4e59-abd3-469b-a493-1d9653d888ac', tool_call_id='call_e83r'),\n",
       "  AIMessage(content='Suhu di lokasi kamu saat ini adalah 30.10 derajat Celcius dengan kondisi sebagian awan.  \\n', additional_kwargs={}, response_metadata={'token_usage': {'completion_tokens': 27, 'prompt_tokens': 1285, 'total_tokens': 1312, 'completion_time': 0.049090909, 'prompt_time': 0.055057722, 'queue_time': 0.016148871999999995, 'total_time': 0.104148631}, 'model_name': 'gemma2-9b-it', 'system_fingerprint': 'fp_10c08bf97d', 'finish_reason': 'stop', 'logprobs': None}, id='run-d469d7c8-6d1c-4ed0-a041-2586aa9cab5d-0', usage_metadata={'input_tokens': 1285, 'output_tokens': 27, 'total_tokens': 1312}),\n",
       "  HumanMessage(content='What is previous location?', additional_kwargs={}, response_metadata={}, id='20790949-76da-4e4d-88ff-05778e2b7de0'),\n",
       "  AIMessage(content='Singapore', additional_kwargs={}, response_metadata={'token_usage': {'completion_tokens': 3, 'prompt_tokens': 1325, 'total_tokens': 1328, 'completion_time': 0.005454545, 'prompt_time': 0.075429303, 'queue_time': 0.02146214099999999, 'total_time': 0.080883848}, 'model_name': 'gemma2-9b-it', 'system_fingerprint': 'fp_10c08bf97d', 'finish_reason': 'stop', 'logprobs': None}, id='run-82858fa8-b8c4-4d3e-94a2-c2cce6a6fc15-0', usage_metadata={'input_tokens': 1325, 'output_tokens': 3, 'total_tokens': 1328})]}"
      ]
     },
     "execution_count": 45,
     "metadata": {},
     "output_type": "execute_result"
    }
   ],
   "source": [
    "answer"
   ]
  },
  {
   "cell_type": "code",
   "execution_count": null,
   "id": "0949819f",
   "metadata": {},
   "outputs": [],
   "source": []
  }
 ],
 "metadata": {
  "kernelspec": {
   "display_name": "mini",
   "language": "python",
   "name": "python3"
  },
  "language_info": {
   "codemirror_mode": {
    "name": "ipython",
    "version": 3
   },
   "file_extension": ".py",
   "mimetype": "text/x-python",
   "name": "python",
   "nbconvert_exporter": "python",
   "pygments_lexer": "ipython3",
   "version": "3.11.11"
  }
 },
 "nbformat": 4,
 "nbformat_minor": 5
}
